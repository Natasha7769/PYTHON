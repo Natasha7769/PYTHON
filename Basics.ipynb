{
 "cells": [
  {
   "cell_type": "markdown",
   "metadata": {},
   "source": [
    "# Variables\n",
    "* use to  store data values\n",
    "* Must start with letters or underscore character\n",
    "* Cannot start with number or special symbols\n",
    "* It only contain alpha-numeric characters and underscores\n"
   ]
  },
  {
   "cell_type": "code",
   "execution_count": 1,
   "metadata": {},
   "outputs": [
    {
     "data": {
      "text/plain": [
       "10"
      ]
     },
     "execution_count": 1,
     "metadata": {},
     "output_type": "execute_result"
    }
   ],
   "source": [
    "a = 10\n",
    "a"
   ]
  },
  {
   "cell_type": "markdown",
   "metadata": {},
   "source": [
    "# Valid Variables\n"
   ]
  },
  {
   "cell_type": "code",
   "execution_count": 2,
   "metadata": {},
   "outputs": [],
   "source": [
    "a = 10\n",
    "a1 =10\n",
    "a_1 = 10\n",
    "_a_1 = 10\n",
    "_a1 = 10\n",
    "a_1_ = 10"
   ]
  },
  {
   "cell_type": "markdown",
   "metadata": {},
   "source": [
    "# Invalid variables"
   ]
  },
  {
   "cell_type": "code",
   "execution_count": null,
   "metadata": {},
   "outputs": [],
   "source": [
    "1a = 10 # inavalid\n",
    "$a = 10\n",
    "@a = 10\n",
    "-a = 10\n",
    "#a = 10\n",
    "+a = 10"
   ]
  },
  {
   "cell_type": "markdown",
   "metadata": {},
   "source": [
    " # Data Types\n",
    " * numeric\n",
    "   * int - int()\n",
    "   * float - float()\n",
    "   * complex - complex()\n",
    " * non numeric\n",
    "   * str\n",
    "   * bool - bool()\n",
    "   * NonType"
   ]
  },
  {
   "cell_type": "markdown",
   "metadata": {},
   "source": [
    "# Data Conversion\n",
    "* Implicit Type Conversion\n",
    "  * Automatic Conversion\n",
    "* Explicit Type Conversion\n",
    "  * Type Casting\n",
    "  * Manual Type Conversion  "
   ]
  },
  {
   "cell_type": "code",
   "execution_count": 2,
   "metadata": {},
   "outputs": [
    {
     "name": "stdout",
     "output_type": "stream",
     "text": [
      "10\n"
     ]
    }
   ],
   "source": [
    "a = 10\n",
    "print(a)"
   ]
  },
  {
   "cell_type": "code",
   "execution_count": 3,
   "metadata": {},
   "outputs": [
    {
     "name": "stdout",
     "output_type": "stream",
     "text": [
      "10 <class 'int'>\n"
     ]
    }
   ],
   "source": [
    "a = 10\n",
    "print(a, type(a))"
   ]
  },
  {
   "cell_type": "code",
   "execution_count": 4,
   "metadata": {},
   "outputs": [
    {
     "name": "stdout",
     "output_type": "stream",
     "text": [
      "\u001b[1;31mSignature:\u001b[0m \u001b[0mprint\u001b[0m\u001b[1;33m(\u001b[0m\u001b[1;33m*\u001b[0m\u001b[0margs\u001b[0m\u001b[1;33m,\u001b[0m \u001b[0msep\u001b[0m\u001b[1;33m=\u001b[0m\u001b[1;34m' '\u001b[0m\u001b[1;33m,\u001b[0m \u001b[0mend\u001b[0m\u001b[1;33m=\u001b[0m\u001b[1;34m'\\n'\u001b[0m\u001b[1;33m,\u001b[0m \u001b[0mfile\u001b[0m\u001b[1;33m=\u001b[0m\u001b[1;32mNone\u001b[0m\u001b[1;33m,\u001b[0m \u001b[0mflush\u001b[0m\u001b[1;33m=\u001b[0m\u001b[1;32mFalse\u001b[0m\u001b[1;33m)\u001b[0m\u001b[1;33m\u001b[0m\u001b[1;33m\u001b[0m\u001b[0m\n",
      "\u001b[1;31mDocstring:\u001b[0m\n",
      "Prints the values to a stream, or to sys.stdout by default.\n",
      "\n",
      "sep\n",
      "  string inserted between values, default a space.\n",
      "end\n",
      "  string appended after the last value, default a newline.\n",
      "file\n",
      "  a file-like object (stream); defaults to the current sys.stdout.\n",
      "flush\n",
      "  whether to forcibly flush the stream.\n",
      "\u001b[1;31mType:\u001b[0m      builtin_function_or_method"
     ]
    }
   ],
   "source": [
    "print?"
   ]
  },
  {
   "cell_type": "markdown",
   "metadata": {},
   "source": [
    "# print()"
   ]
  },
  {
   "cell_type": "code",
   "execution_count": 6,
   "metadata": {},
   "outputs": [
    {
     "name": "stdout",
     "output_type": "stream",
     "text": [
      "Natasha Kanojia I am a girl. And I am a working professional. I am learning Data Analytics with python from Digipodium\n"
     ]
    }
   ],
   "source": [
    "a = 'Natasha'\n",
    "b = \"Kanojia\"\n",
    "c = '''I am a girl. And I am a working professional. I am learning Data Analytics with python from Digipodium'''\n",
    "\n",
    "print(a, b, c)"
   ]
  },
  {
   "cell_type": "code",
   "execution_count": 7,
   "metadata": {},
   "outputs": [
    {
     "name": "stdout",
     "output_type": "stream",
     "text": [
      "Natasha\n",
      "Kanojia\n",
      "I am a girl. \n",
      "And I am a working professional. \n",
      "I am learning Data Analytics with python from Digipodium\n"
     ]
    }
   ],
   "source": [
    "a = 'Natasha'\n",
    "b = \"Kanojia\"\n",
    "c = '''I am a girl. \n",
    "And I am a working professional. \n",
    "I am learning Data Analytics with python from Digipodium'''\n",
    "print(a)\n",
    "print(b)\n",
    "print(c)"
   ]
  },
  {
   "cell_type": "code",
   "execution_count": 8,
   "metadata": {},
   "outputs": [
    {
     "name": "stdout",
     "output_type": "stream",
     "text": [
      "Natasha\n",
      "Kanojia\n",
      "I am a girl. And I am a working professional. I am learning Data Analytics with python from Digipodium\n"
     ]
    }
   ],
   "source": [
    "a = 'Natasha'\n",
    "b = \"Kanojia\"\n",
    "c = '''I am a girl. And I am a working professional. I am learning Data Analytics with python from Digipodium'''\n",
    "print(a)\n",
    "print(b)\n",
    "print(c)"
   ]
  },
  {
   "cell_type": "code",
   "execution_count": 10,
   "metadata": {},
   "outputs": [
    {
     "name": "stdout",
     "output_type": "stream",
     "text": [
      "Natasha Kanojia I am a girl. \n",
      "And I am a working professional. \n",
      "I am learning Data Analytics with python from Digipodium\n"
     ]
    }
   ],
   "source": [
    "a = 'Natasha'\n",
    "b = \"Kanojia\"\n",
    "c = '''I am a girl. \n",
    "And I am a working professional. \n",
    "I am learning Data Analytics with python from Digipodium'''\n",
    "print(a, b, c)"
   ]
  },
  {
   "cell_type": "code",
   "execution_count": 11,
   "metadata": {},
   "outputs": [
    {
     "name": "stdout",
     "output_type": "stream",
     "text": [
      "Natasha Kanojia "
     ]
    }
   ],
   "source": [
    "a = 'Natasha'\n",
    "b = \"Kanojia\"\n",
    "c = '''I am a girl. \n",
    "And I am a working professional. \n",
    "I am learning Data Analytics with python from Digipodium'''\n",
    "print(a, b, end = \" \")"
   ]
  },
  {
   "cell_type": "code",
   "execution_count": 12,
   "metadata": {},
   "outputs": [
    {
     "name": "stdout",
     "output_type": "stream",
     "text": [
      "Natasha "
     ]
    }
   ],
   "source": [
    "a = 'Natasha'\n",
    "b = \"Kanojia\"\n",
    "c = '''I am a girl. \n",
    "And I am a working professional. \n",
    "I am learning Data Analytics with python from Digipodium'''\n",
    "print(a, end = \" \")"
   ]
  },
  {
   "cell_type": "code",
   "execution_count": 13,
   "metadata": {},
   "outputs": [
    {
     "name": "stdout",
     "output_type": "stream",
     "text": [
      "Kanojia "
     ]
    }
   ],
   "source": [
    "a = 'Natasha'\n",
    "b = \"Kanojia\"\n",
    "c = '''I am a girl. \n",
    "And I am a working professional. \n",
    "I am learning Data Analytics with python from Digipodium'''\n",
    "print(b, end = \" \")"
   ]
  },
  {
   "cell_type": "code",
   "execution_count": 14,
   "metadata": {},
   "outputs": [
    {
     "name": "stdout",
     "output_type": "stream",
     "text": [
      "Natasha "
     ]
    }
   ],
   "source": [
    "a = 'Natasha'\n",
    "b = \"Kanojia\"\n",
    "c = '''I am a girl. \n",
    "And I am a working professional. \n",
    "I am learning Data Analytics with python from Digipodium'''\n",
    "print(a, end = ' ')"
   ]
  },
  {
   "cell_type": "code",
   "execution_count": 15,
   "metadata": {},
   "outputs": [
    {
     "name": "stdout",
     "output_type": "stream",
     "text": [
      "Natasha Kanojia I am a girl. \n",
      "And I am a working professional. \n",
      "I am learning Data Analytics with python from Digipodium "
     ]
    }
   ],
   "source": [
    "a = 'Natasha'\n",
    "b = \"Kanojia\"\n",
    "c = '''I am a girl. \n",
    "And I am a working professional. \n",
    "I am learning Data Analytics with python from Digipodium'''\n",
    "print(a, b, c, end = \" \" )"
   ]
  },
  {
   "cell_type": "code",
   "execution_count": 16,
   "metadata": {},
   "outputs": [
    {
     "ename": "SyntaxError",
     "evalue": "positional argument follows keyword argument (3354622270.py, line 6)",
     "output_type": "error",
     "traceback": [
      "\u001b[1;36m  Cell \u001b[1;32mIn[16], line 6\u001b[1;36m\u001b[0m\n\u001b[1;33m    print(a, end = \" \", b)\u001b[0m\n\u001b[1;37m                         ^\u001b[0m\n\u001b[1;31mSyntaxError\u001b[0m\u001b[1;31m:\u001b[0m positional argument follows keyword argument\n"
     ]
    }
   ],
   "source": [
    "a = 'Natasha'\n",
    "b = \"Kanojia\"\n",
    "c = '''I am a girl. \n",
    "And I am a working professional. \n",
    "I am learning Data Analytics with python from Digipodium'''\n",
    "print(a, b)"
   ]
  },
  {
   "cell_type": "code",
   "execution_count": 17,
   "metadata": {},
   "outputs": [
    {
     "name": "stdout",
     "output_type": "stream",
     "text": [
      "Natasha Kanojia I am a girl. And I am a working professional. I am learning Data Analytics with python from Digipodium "
     ]
    }
   ],
   "source": [
    "a = 'Natasha'\n",
    "b = \"Kanojia\"\n",
    "c = '''I am a girl. And I am a working professional. I am learning Data Analytics with python from Digipodium'''\n",
    "print(a, b, c, end = \" \") #end = \" \" is use when we want to print answer in single line"
   ]
  },
  {
   "cell_type": "code",
   "execution_count": 22,
   "metadata": {},
   "outputs": [
    {
     "name": "stdout",
     "output_type": "stream",
     "text": [
      "10 20 30 40#"
     ]
    }
   ],
   "source": [
    "a = 10\n",
    "b = 20\n",
    "c = 30\n",
    "d = 40\n",
    "print (a, b, c, d, end = '#')"
   ]
  },
  {
   "cell_type": "code",
   "execution_count": 19,
   "metadata": {},
   "outputs": [
    {
     "name": "stdout",
     "output_type": "stream",
     "text": [
      "10 20\n"
     ]
    }
   ],
   "source": [
    "a = 10\n",
    "b = 20\n",
    "c = 30\n",
    "d = 40\n",
    "print(a, b)"
   ]
  },
  {
   "cell_type": "code",
   "execution_count": 23,
   "metadata": {},
   "outputs": [
    {
     "name": "stdout",
     "output_type": "stream",
     "text": [
      "1020 30 40\n"
     ]
    }
   ],
   "source": [
    "a = 10\n",
    "b = 20\n",
    "c = 30\n",
    "d = 40\n",
    "print(a, end = \"\")\n",
    "print (b, c, d)"
   ]
  },
  {
   "cell_type": "code",
   "execution_count": 24,
   "metadata": {},
   "outputs": [
    {
     "name": "stdout",
     "output_type": "stream",
     "text": [
      "10 20\n",
      "30\n",
      "40\n"
     ]
    }
   ],
   "source": [
    "a = 10\n",
    "b = 20\n",
    "c = 30\n",
    "d = 40\n",
    "print(a, end =\" \")\n",
    "print (b)\n",
    "print (c)\n",
    "print (d)"
   ]
  },
  {
   "cell_type": "code",
   "execution_count": 25,
   "metadata": {},
   "outputs": [
    {
     "name": "stdout",
     "output_type": "stream",
     "text": [
      "10 2030 40\n"
     ]
    }
   ],
   "source": [
    "a = 10\n",
    "b = 20\n",
    "c = 30\n",
    "d = 40\n",
    "print (a, end = \" \")\n",
    "print (b, end = \"\")\n",
    "print (c, end = \" \")\n",
    "print (d)\n"
   ]
  },
  {
   "cell_type": "code",
   "execution_count": 2,
   "metadata": {},
   "outputs": [
    {
     "name": "stdout",
     "output_type": "stream",
     "text": [
      "10 <class 'int'> 20.5 <class 'float'> -30 <class 'int'> 40j <class 'complex'> "
     ]
    }
   ],
   "source": [
    "a = 10\n",
    "b = 20.5\n",
    "c = -30\n",
    "d = 40j\n",
    "print(a, type(a), end = \" \")\n",
    "print(b, type(b), end = \" \")\n",
    "print(c, type(c), end = \" \")\n",
    "print(d, type(d), end = \" \")"
   ]
  },
  {
   "cell_type": "code",
   "execution_count": 7,
   "metadata": {},
   "outputs": [
    {
     "name": "stdout",
     "output_type": "stream",
     "text": [
      "welcome\n",
      "to\n",
      "Digipodium\n"
     ]
    }
   ],
   "source": [
    "print(\"welcome\",\"to\", \"Digipodium\", sep = \"\\n\")"
   ]
  },
  {
   "cell_type": "code",
   "execution_count": null,
   "metadata": {},
   "outputs": [],
   "source": []
  }
 ],
 "metadata": {
  "kernelspec": {
   "display_name": "Python 3",
   "language": "python",
   "name": "python3"
  },
  "language_info": {
   "codemirror_mode": {
    "name": "ipython",
    "version": 3
   },
   "file_extension": ".py",
   "mimetype": "text/x-python",
   "name": "python",
   "nbconvert_exporter": "python",
   "pygments_lexer": "ipython3",
   "version": "3.11.5"
  },
  "orig_nbformat": 4
 },
 "nbformat": 4,
 "nbformat_minor": 2
}
