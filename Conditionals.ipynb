{
 "cells": [
  {
   "cell_type": "markdown",
   "metadata": {},
   "source": [
    "## Conditionals\n",
    "* if-else\n",
    "   * normal if-else : It is used when we have only two states to check.\n",
    "   * if-elif-else : It is used when we have more than two states to check.\n",
    "   * nested if-else : It is used when we have to check a condition inside a condition.\n",
    "* match-case"
   ]
  },
  {
   "cell_type": "code",
   "execution_count": 1,
   "metadata": {},
   "outputs": [
    {
     "name": "stdout",
     "output_type": "stream",
     "text": [
      "We will have a rainbow\n"
     ]
    }
   ],
   "source": [
    "weather_condition_1 = \"sunny\"\n",
    "weather_condition_2 = \"rainy\"\n",
    "\n",
    "if weather_condition_1 == \"sunny\":\n",
    "    if weather_condition_2 == \"rainy\":\n",
    "        print(\"We will have a rainbow\")\n",
    "    else:\n",
    "        print(\"We will have a sunny day\")\n",
    "else:\n",
    "    print(\"We will have a drop in temperature\")"
   ]
  },
  {
   "cell_type": "code",
   "execution_count": 2,
   "metadata": {},
   "outputs": [
    {
     "name": "stdout",
     "output_type": "stream",
     "text": [
      "Welcome to the system\n"
     ]
    }
   ],
   "source": [
    "username = input(\"Enter your username: \")\n",
    "password = input(\"Enter your password: \")\n",
    "\n",
    "if username == \"admin\":\n",
    "    if password == \"admin\":\n",
    "        print(\"Welcome to the system\")\n",
    "    else:\n",
    "        print(\"Invalid password\")\n",
    "else:\n",
    "    print(\"Invalid username\")"
   ]
  },
  {
   "cell_type": "code",
   "execution_count": 4,
   "metadata": {},
   "outputs": [
    {
     "name": "stdout",
     "output_type": "stream",
     "text": [
      "Invalid username or password\n"
     ]
    }
   ],
   "source": [
    "username = input(\"Enter your username: \")\n",
    "password = input(\"Enter your password: \")\n",
    "\n",
    "if username == \"admin\" and password == \"admin\":\n",
    "    print(\"Welcome to the system\")\n",
    "else:\n",
    "    print(\"Invalid username or password\")"
   ]
  },
  {
   "cell_type": "code",
   "execution_count": 2,
   "metadata": {},
   "outputs": [
    {
     "data": {
      "text/plain": [
       "10"
      ]
     },
     "execution_count": 2,
     "metadata": {},
     "output_type": "execute_result"
    }
   ],
   "source": [
    "a=10\n",
    "a"
   ]
  },
  {
   "cell_type": "markdown",
   "metadata": {},
   "source": []
  }
 ],
 "metadata": {
  "kernelspec": {
   "display_name": "Python 3",
   "language": "python",
   "name": "python3"
  },
  "language_info": {
   "codemirror_mode": {
    "name": "ipython",
    "version": 3
   },
   "file_extension": ".py",
   "mimetype": "text/x-python",
   "name": "python",
   "nbconvert_exporter": "python",
   "pygments_lexer": "ipython3",
   "version": "3.11.5"
  },
  "orig_nbformat": 4
 },
 "nbformat": 4,
 "nbformat_minor": 2
}
