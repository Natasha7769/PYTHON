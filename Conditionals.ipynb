{
 "cells": [
  {
   "cell_type": "markdown",
   "metadata": {},
   "source": [
    "## Conditionals\n",
    "* if-else\n",
    "   * normal if-else : It is used when we have only two states to check.\n",
    "   * if-elif-else : It is used when we have more than two states to check.\n",
    "   * nested if-else : It is used when we have to check a condition inside a condition.\n",
    "* match-case"
   ]
  },
  {
   "cell_type": "code",
   "execution_count": 1,
   "metadata": {},
   "outputs": [
    {
     "name": "stdout",
     "output_type": "stream",
     "text": [
      "We will have a rainbow\n"
     ]
    }
   ],
   "source": [
    "weather_condition_1 = \"sunny\"\n",
    "weather_condition_2 = \"rainy\"\n",
    "\n",
    "if weather_condition_1 == \"sunny\":\n",
    "    if weather_condition_2 == \"rainy\":\n",
    "        print(\"We will have a rainbow\")\n",
    "    else:\n",
    "        print(\"We will have a sunny day\")\n",
    "else:\n",
    "    print(\"We will have a increase in temperature\")"
   ]
  },
  {
   "cell_type": "code",
   "execution_count": 2,
   "metadata": {},
   "outputs": [
    {
     "name": "stdout",
     "output_type": "stream",
     "text": [
      "Welcome to the system\n"
     ]
    }
   ],
   "source": [
    "username = input(\"Enter your username: \")\n",
    "password = input(\"Enter your password: \")\n",
    "\n",
    "if username == \"admin\":\n",
    "    if password == \"admin\":\n",
    "        print(\"Welcome to the system\")\n",
    "    else:\n",
    "        print(\"Invalid password\")\n",
    "else:\n",
    "    print(\"Invalid username\")"
   ]
  },
  {
   "cell_type": "code",
   "execution_count": 4,
   "metadata": {},
   "outputs": [
    {
     "name": "stdout",
     "output_type": "stream",
     "text": [
      "Invalid username or password\n"
     ]
    }
   ],
   "source": [
    "username = input(\"Enter your username: \")\n",
    "password = input(\"Enter your password: \")\n",
    "\n",
    "if username == \"admin\" and password == \"admin\":\n",
    "    print(\"Welcome to the system\")\n",
    "else:\n",
    "    print(\"Invalid username or password\")"
   ]
  },
  {
   "cell_type": "code",
   "execution_count": 2,
   "metadata": {},
   "outputs": [
    {
     "data": {
      "text/plain": [
       "10"
      ]
     },
     "execution_count": 2,
     "metadata": {},
     "output_type": "execute_result"
    }
   ],
   "source": [
    "a=10\n",
    "a"
   ]
  },
  {
   "cell_type": "markdown",
   "metadata": {},
   "source": [
    "# Match-case:\n",
    "* It is used to check multiple conditions in a single line.\n",
    "* It is similar to switch-case in other languages.\n",
    "* It is also used as an alternative to if-elif-else."
   ]
  },
  {
   "cell_type": "code",
   "execution_count": null,
   "metadata": {},
   "outputs": [],
   "source": [
    "num = input(\"Enter a number: \")\n",
    "\n",
    "match num: \n",
    "    case '1':\n",
    "        print(\"One\")\n",
    "    case '2':\n",
    "        print(\"Two\")\n",
    "    case '3':\n",
    "        print(\"Three\")\n",
    "    case _:\n",
    "        print(\"Invalid number\")"
   ]
  },
  {
   "cell_type": "markdown",
   "metadata": {},
   "source": [
    "# Write a program to check whether a number is positive, negative or zero."
   ]
  },
  {
   "cell_type": "code",
   "execution_count": null,
   "metadata": {},
   "outputs": [],
   "source": [
    "num = int(input(\"Enter a number: \"))\n",
    "match num>0:\n",
    "    case True:\n",
    "        print(\"Positive\")\n",
    "    case False:\n",
    "        print(\"Negative\")\n",
    "    case _:\n",
    "        print(\"Zero\" )"
   ]
  },
  {
   "cell_type": "markdown",
   "metadata": {},
   "source": [
    "# Write a program to give output of the animal voice according to the animal name given by the user."
   ]
  },
  {
   "cell_type": "code",
   "execution_count": 5,
   "metadata": {},
   "outputs": [
    {
     "name": "stdout",
     "output_type": "stream",
     "text": [
      "Dog\n"
     ]
    }
   ],
   "source": [
    "animal_voice = input(\"Enter animal voice: \")\n",
    "match animal_voice:\n",
    "    case \"Baow Baow\":\n",
    "        print(\"Dog\")\n",
    "    case \"Meow Meow\":\n",
    "        print(\"Cat\")\n",
    "    case \"Ma MA\":\n",
    "        print(\"Goat\")\n",
    "    case \"click click\":\n",
    "        print(\"Spider\")    \n",
    "    case _:\n",
    "        print(\"No animal found\")\n",
    "    \n",
    "       "
   ]
  },
  {
   "cell_type": "markdown",
   "metadata": {},
   "source": [
    "# Write a program to calculate the grade of a student according to the total marks obtained by the student using match-case.\n",
    "* total marks> 450: A grade\n",
    "* total marks> 350: B grade\n",
    "* total marks> 250: C grade\n",
    "* total marks> 150: D grade\n",
    "* total marks> 50: E grade\n",
    "* total marks< 50:F grade"
   ]
  },
  {
   "cell_type": "code",
   "execution_count": 6,
   "metadata": {},
   "outputs": [
    {
     "name": "stdout",
     "output_type": "stream",
     "text": [
      "D Grade\n"
     ]
    }
   ],
   "source": [
    "total_marks = int(input(\"Enter total marks obtained by student: \"))\n",
    "if total_marks>450:\n",
    "    print(\"A Grade\")\n",
    "elif total_marks>350:\n",
    "    print(\"B Grade\")\n",
    "elif total_marks>250:\n",
    "    print(\"C Grade\")\n",
    "elif total_marks>150:\n",
    "    print(\"D Grade\")\n",
    "elif total_marks>50:\n",
    "    print(\"E Grade\")\n",
    "else:\n",
    "    total_marks<50\n",
    "    print(\"F Grade\")    \n",
    "                    \n",
    "    \n"
   ]
  },
  {
   "cell_type": "markdown",
   "metadata": {},
   "source": [
    "# Make a choice game:\n",
    "* Ask the user to choose between rock,paper and scissors.\n",
    "* Take the input from the First user.\n",
    "* Take the input from the second user.\n",
    "* Print the winner according to the following conditions:\n",
    "  * rock>scissors\n",
    "  * scissors>paper\n",
    "  * paper>rock\n",
    "  * if both the users choose the same option,then print \"Its a tie\".\n"
   ]
  },
  {
   "cell_type": "code",
   "execution_count": 1,
   "metadata": {},
   "outputs": [
    {
     "name": "stdout",
     "output_type": "stream",
     "text": [
      "Welcome to the Rock Paper Scissor Game\n",
      "Enter 1 for Rock\n",
      "Enter 2 for Paper\n",
      "Enter 3 for Scissor\n",
      "User 2 won\n"
     ]
    }
   ],
   "source": [
    "print(\"Welcome to the Rock Paper Scissor Game\")\n",
    "print(\"Enter 1 for Rock\")\n",
    "print(\"Enter 2 for Paper\")\n",
    "print(\"Enter 3 for Scissor\")\n",
    "\n",
    "user_choice_1 = int(input(\"Enter your choice: \"))\n",
    "user_choice_2 = int(input(\"Enter your choice: \"))\n",
    "\n",
    "match user_choice_1, user_choice_2:\n",
    "    case (1,1):\n",
    "        print(\"Draw\")\n",
    "    case (1,2):\n",
    "        print(\"User 2 won\")\n",
    "    case (1,3):\n",
    "        print(\"User 1 won\")\n",
    "    case (2,1):\n",
    "        print(\"User 1 won\")\n",
    "    case (2,2):\n",
    "        print(\"Draw\")\n",
    "    case (2,3):\n",
    "        print(\"User 2 won\")\n",
    "    case (3,1):\n",
    "        print(\"User 2 won\")\n",
    "    case (3,2):\n",
    "        print(\"User 1 won\")\n",
    "    case (3,3):\n",
    "        print(\"Draw\")\n",
    "    case _:\n",
    "        print"
   ]
  },
  {
   "cell_type": "markdown",
   "metadata": {},
   "source": [
    "# Write a program to calculate the grade of a student according to the total marks obtained by the student using match-case.\n",
    "* total marks> 450: A grade\n",
    "* total marks> 350: B grade\n",
    "* total marks> 250: C grade\n",
    "* total marks> 150: D grade\n",
    "* total marks> 50: E grade\n",
    "* total marks< 50:F grade"
   ]
  },
  {
   "cell_type": "code",
   "execution_count": 1,
   "metadata": {},
   "outputs": [
    {
     "name": "stdout",
     "output_type": "stream",
     "text": [
      "B grade\n"
     ]
    }
   ],
   "source": [
    "marks = int(input(\"Enter total marks of student: \"))\n",
    "match marks>450,450>marks>350,350>marks>250,250>marks>150,150>marks>50:\n",
    "   case (True,False,False,False,False):\n",
    "      print(\"A grade\")\n",
    "   case (False,True,False,False,False):\n",
    "      print(\"B grade\") \n",
    "   case (False,False,True,False,False):\n",
    "      print(\"C grade\") \n",
    "   case (False,False,False,True,False):\n",
    "      print(\"D grade\") \n",
    "   case (False,False,False,False,True):\n",
    "      print(\"E grade\") \n",
    "   case _:\n",
    "      print(\"F Grade\")   "
   ]
  },
  {
   "cell_type": "code",
   "execution_count": 2,
   "metadata": {},
   "outputs": [
    {
     "name": "stdout",
     "output_type": "stream",
     "text": [
      "Not Weird\n"
     ]
    }
   ],
   "source": [
    "n= int(input(\"Enter a number:\"))\n",
    "if n%2!=0:\n",
    "    print(\"Weird\")\n",
    "elif n%2 == 0 and 2<n<5:\n",
    "    print(\"Not Weird\")\n",
    "elif n%2==0 and 6<n<20:\n",
    "    print(\"Weird\")\n",
    "elif n%2==0 and n>20:\n",
    "    print(\"Not Weird\")        \n"
   ]
  },
  {
   "cell_type": "code",
   "execution_count": null,
   "metadata": {},
   "outputs": [],
   "source": []
  }
 ],
 "metadata": {
  "kernelspec": {
   "display_name": "Python 3",
   "language": "python",
   "name": "python3"
  },
  "language_info": {
   "codemirror_mode": {
    "name": "ipython",
    "version": 3
   },
   "file_extension": ".py",
   "mimetype": "text/x-python",
   "name": "python",
   "nbconvert_exporter": "python",
   "pygments_lexer": "ipython3",
   "version": "3.11.5"
  },
  "orig_nbformat": 4
 },
 "nbformat": 4,
 "nbformat_minor": 2
}
