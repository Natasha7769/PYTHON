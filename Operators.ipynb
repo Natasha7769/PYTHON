{
 "cells": [
  {
   "cell_type": "markdown",
   "metadata": {},
   "source": [
    "# operators\n",
    "  1. Arithmetic operators\n",
    "  2. Comparison (Relational) operators\n",
    "  3. Assignment operators\n",
    "  4. Logical operators\n",
    "  5. Membership operators\n",
    "  6. Identity operators\n",
    "\n",
    "### 1. Arithmetic Operators\n",
    " * Addition - Adds values on either side of the operator\n",
    " * Subtraction - Subtracts right hand operand from left hand operand\n",
    " * Multiplication - Multiplies values on either side of the operator\n",
    " * / Division - Divides left hand operand by right hand operand\n",
    " * % Modulus - Divides left hand operand by right hand operand and returns remainder\n",
    " * ** Exponent - Performs exponential (power) calculation on operators\n",
    " * // Floor division - The division of operands where the result is the quotient in which the digits after the decimal point are removed. "
   ]
  },
  {
   "cell_type": "markdown",
   "metadata": {},
   "source": [
    "# Write progrom to calculate area of Rectangle"
   ]
  },
  {
   "cell_type": "code",
   "execution_count": 2,
   "metadata": {},
   "outputs": [
    {
     "name": "stdout",
     "output_type": "stream",
     "text": [
      "Area of rectangle is 200 square unit\n"
     ]
    }
   ],
   "source": [
    "length = int(input(\"Enter length: \"))\n",
    "breadth = int(input(\"Enter breadth: \"))\n",
    "area = length * breadth\n",
    "print (\"Area of rectangle is\", area, \"square unit\")"
   ]
  },
  {
   "cell_type": "markdown",
   "metadata": {},
   "source": [
    "# Write program to calculate the area of a triangle"
   ]
  },
  {
   "cell_type": "code",
   "execution_count": 3,
   "metadata": {},
   "outputs": [
    {
     "name": "stdout",
     "output_type": "stream",
     "text": [
      "Area of triangle is 150.0 square unit\n"
     ]
    }
   ],
   "source": [
    "base = int(input(\"Enter base: \"))\n",
    "height = int(input(\"Enter height: \"))\n",
    "area = 0.5*base*height\n",
    "print(\"Area of triangle is\", area,\"square unit\")"
   ]
  },
  {
   "cell_type": "markdown",
   "metadata": {},
   "source": [
    "# Write program to calculate the perimenter of rectangle"
   ]
  },
  {
   "cell_type": "code",
   "execution_count": 4,
   "metadata": {},
   "outputs": [
    {
     "name": "stdout",
     "output_type": "stream",
     "text": [
      "Perimeter of rectangle is 60 units\n"
     ]
    }
   ],
   "source": [
    "lenght = int(input(\"Enter lenth: \"))\n",
    "breadth = int(input(\"Enter breadth: \"))\n",
    "perimeter = 2*(length+ breadth)\n",
    "print(\"Perimeter of rectangle is\", perimeter, \"units\")"
   ]
  },
  {
   "cell_type": "markdown",
   "metadata": {},
   "source": [
    "# Write a program to calculate the profit percentage"
   ]
  },
  {
   "cell_type": "code",
   "execution_count": 5,
   "metadata": {},
   "outputs": [
    {
     "name": "stdout",
     "output_type": "stream",
     "text": [
      "Profit Percentage 100.0 %\n"
     ]
    }
   ],
   "source": [
    "cost_price = int(input(\"Enter cost price: \"))\n",
    "selling_price = int (input(\"Enter selling price: \"))\n",
    "profit = selling_price - cost_price\n",
    "profit_per = (profit/cost_price)*100\n",
    "print(\"Profit Percentage\", profit_per, \"%\")"
   ]
  },
  {
   "cell_type": "markdown",
   "metadata": {},
   "source": [
    "## Relational Operators\n",
    "* == If the values of two operands are equal, then the condition becomes true.\n",
    "* != If values of two operands are not equal, then condition becomes true.\n",
    "* *> If the value of left operand is greater than the value of right operand, then condition becomes true.\n",
    "* < If the value of left operand is less than the value of right operand, then condition becomes true.\n",
    "* *>= If the value of left operand is greater than or equal to the value of right operand, then condition becomes true.\n",
    "* <= If the value of left operand is less than or equal to the value of right operand, then condition becomes true.\n",
    "\n",
    "Note: It always returns 0 or 1 i.e. False or True respectively."
   ]
  },
  {
   "cell_type": "code",
   "execution_count": 1,
   "metadata": {},
   "outputs": [
    {
     "name": "stdout",
     "output_type": "stream",
     "text": [
      "True\n",
      "False\n",
      "False\n",
      "False\n",
      "True\n",
      "True\n"
     ]
    }
   ],
   "source": [
    "a = 10\n",
    "b = 10\n",
    "\n",
    "print(a == b)\n",
    "print(a != b)\n",
    "print(a > b)\n",
    "print(a < b)\n",
    "print(a >= b)\n",
    "print(a <= b)"
   ]
  },
  {
   "cell_type": "markdown",
   "metadata": {},
   "source": [
    "## Logical Operators\n",
    "* and Logical AND - If both the operands are true then condition becomes true.\n",
    "* or Logical OR - If any of the two operands are non-zero then condition becomes true.\n",
    "* not Logical NOT - Used to reverse the logical state of its operand.\n",
    "\n",
    "Note: It will return true and false if it is used with comparision operators but it will return the value of operand if it is used with assignment operators."
   ]
  },
  {
   "cell_type": "code",
   "execution_count": 2,
   "metadata": {},
   "outputs": [
    {
     "name": "stdout",
     "output_type": "stream",
     "text": [
      "5\n",
      "10\n",
      "False\n"
     ]
    }
   ],
   "source": [
    "a = 10\n",
    "b = 5\n",
    "\n",
    "print(a and b)\n",
    "print(a or b)\n",
    "print(not a)"
   ]
  },
  {
   "cell_type": "code",
   "execution_count": null,
   "metadata": {},
   "outputs": [],
   "source": []
  }
 ],
 "metadata": {
  "kernelspec": {
   "display_name": "Python 3",
   "language": "python",
   "name": "python3"
  },
  "language_info": {
   "codemirror_mode": {
    "name": "ipython",
    "version": 3
   },
   "file_extension": ".py",
   "mimetype": "text/x-python",
   "name": "python",
   "nbconvert_exporter": "python",
   "pygments_lexer": "ipython3",
   "version": "3.11.5"
  },
  "orig_nbformat": 4
 },
 "nbformat": 4,
 "nbformat_minor": 2
}
