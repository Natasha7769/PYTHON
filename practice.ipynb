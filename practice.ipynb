{
 "cells": [
  {
   "cell_type": "markdown",
   "metadata": {},
   "source": [
    "# Write a program to check whether a number is even or odd"
   ]
  },
  {
   "cell_type": "code",
   "execution_count": 2,
   "metadata": {},
   "outputs": [
    {
     "name": "stdout",
     "output_type": "stream",
     "text": [
      "Number is odd\n"
     ]
    }
   ],
   "source": [
    "num = int(input(\"Enter a number: \"))\n",
    "if num%2 == 0:\n",
    "    print(\"Number is even\")\n",
    "else :\n",
    "    print(\"Number is odd\")  "
   ]
  },
  {
   "cell_type": "markdown",
   "metadata": {},
   "source": [
    "# Write a program to check whether an entered alphabet is vowel or consonent"
   ]
  },
  {
   "cell_type": "code",
   "execution_count": 3,
   "metadata": {},
   "outputs": [
    {
     "name": "stdout",
     "output_type": "stream",
     "text": [
      "consonent\n"
     ]
    }
   ],
   "source": [
    "alphabet = input(\"enter a alphabet: \")\n",
    "if alphabet == \"a\" or alphabet == \"e\" or alphabet == \"i\" or alphabet == \"o\" or alphabet == \"u\" or alphabet == \"A\" or alphabet == \"E\" or alphabet == \"I\" or alphabet == \"O\" or alphabet == \"U\":\n",
    "    print(\"vowel\")\n",
    "else:\n",
    "    print(\"consonent\")    \n"
   ]
  },
  {
   "cell_type": "markdown",
   "metadata": {},
   "source": [
    "# Write a program to check whether a number is positive or negative"
   ]
  },
  {
   "cell_type": "code",
   "execution_count": 5,
   "metadata": {},
   "outputs": [
    {
     "name": "stdout",
     "output_type": "stream",
     "text": [
      "Number is negative\n"
     ]
    }
   ],
   "source": [
    "num = int(input(\"Enter a number: \"))\n",
    "if num > 0:\n",
    "    print(\"Number is positive\")\n",
    "else :\n",
    "    print(\"Number is negative\")    "
   ]
  },
  {
   "cell_type": "markdown",
   "metadata": {},
   "source": [
    "# Write a program to check a whether the shopkeeper had profit or loss"
   ]
  },
  {
   "cell_type": "code",
   "execution_count": 7,
   "metadata": {},
   "outputs": [
    {
     "name": "stdout",
     "output_type": "stream",
     "text": [
      "Shopkeeper had no proft no loss\n"
     ]
    }
   ],
   "source": [
    "cost_price = int(input(\"Enter a cost price: \"))\n",
    "selling_price = int(input(\"Enter a selling price: \"))\n",
    "if cost_price < selling_price:\n",
    "    print(\"Shopkeeper had profit\")\n",
    "elif selling_price < cost_price:\n",
    "    print(\"shopper had loss\")    \n",
    "else:\n",
    "    print(\"Shopkeeper had no proft no loss\")\n",
    "    "
   ]
  },
  {
   "cell_type": "markdown",
   "metadata": {},
   "source": [
    "# "
   ]
  },
  {
   "cell_type": "markdown",
   "metadata": {},
   "source": [
    "# Write a program to find the largest among three numbers and print the largest number."
   ]
  },
  {
   "cell_type": "code",
   "execution_count": 9,
   "metadata": {},
   "outputs": [
    {
     "name": "stdout",
     "output_type": "stream",
     "text": [
      "b is greater\n"
     ]
    }
   ],
   "source": [
    "a = float(input(\"Enter a number1: \"))\n",
    "b = float(input(\"Enter a number2: \"))\n",
    "c = float(input(\"Enter a number3: \"))\n",
    "if a > b and a > c:\n",
    "    print(\"a is greater\")\n",
    "elif b > a and b > c:\n",
    "    print(\"b is greater\") \n",
    "else:\n",
    "    print(\"c is geater\")            "
   ]
  },
  {
   "cell_type": "markdown",
   "metadata": {},
   "source": [
    "# Write a program to check whether a year is leap year or not."
   ]
  },
  {
   "cell_type": "code",
   "execution_count": 5,
   "metadata": {},
   "outputs": [
    {
     "name": "stdout",
     "output_type": "stream",
     "text": [
      "1900 is a leap year\n"
     ]
    }
   ],
   "source": [
    "year = int(input(\"Enter year: \"))\n",
    "if year % 400: \n",
    "    print(\"Leap year\")\n",
    "elif year % 100:\n",
    "    print(\"Not a Leap year\")\n",
    "elif year % 4:\n",
    "    print(\"Leap year\")\n",
    "else:\n",
    "    print(\"Not a Leap year\")"
   ]
  },
  {
   "cell_type": "markdown",
   "metadata": {},
   "source": [
    "# Write a program to check whether a character is alphabet or not"
   ]
  },
  {
   "cell_type": "code",
   "execution_count": 2,
   "metadata": {},
   "outputs": [
    {
     "name": "stdout",
     "output_type": "stream",
     "text": [
      "b is alphabet\n"
     ]
    }
   ],
   "source": [
    "character = (input(\"Enter a character: \"))\n",
    "if character >= \"a\" and character <= \"z\":\n",
    "    print(character, \"is alphabet\")\n",
    "elif character >= \"A\" and character <= \"Z\":\n",
    "    print(character,\"is alphabet\")    \n",
    "else:\n",
    "    print(character, \"is not a alphabet\")    "
   ]
  },
  {
   "cell_type": "markdown",
   "metadata": {},
   "source": [
    "# Write a program to check whether number comes in which range\n",
    "for example \n",
    "* num=5 \n",
    "* Range = 5 is in range t to 10\n",
    "\n",
    "\n",
    "* num= 12\n",
    "* Range = 11 to 20 \n",
    "* Output: 12 is in range of 11 to 20\n",
    "* num= 24\n",
    "* output: 24 is not in range of 1 to 10 and 11 to 20"
   ]
  },
  {
   "cell_type": "code",
   "execution_count": 1,
   "metadata": {},
   "outputs": [
    {
     "name": "stdout",
     "output_type": "stream",
     "text": [
      "15 is in range 11 to 20\n"
     ]
    }
   ],
   "source": [
    "num = int(input(\"Enter a number: \"))\n",
    "if num<=10 and num>=1:\n",
    "    print(num,\"is in range 1 to 10\")\n",
    "elif num<=20 and num>=11:\n",
    "    print(num,\"is in range 11 to 20\")\n",
    "else:\n",
    "    print(num,\"in not in range of 1 to 10 and 11 to 20\")    \n",
    "    "
   ]
  },
  {
   "cell_type": "markdown",
   "metadata": {},
   "source": [
    "# Write a program to accept the number from 1 to 7 display the name of the day like 1 for SUNDAY,2 for Monday and so on."
   ]
  },
  {
   "cell_type": "code",
   "execution_count": 1,
   "metadata": {},
   "outputs": [
    {
     "name": "stdout",
     "output_type": "stream",
     "text": [
      "Thursday\n"
     ]
    }
   ],
   "source": [
    "day = input(\"Enter a name of the day: \")\n",
    "match day:\n",
    "      case \"1\":\n",
    "            print(\"Sunday\")\n",
    "      case \"2\":\n",
    "            print(\"Monday\")\n",
    "      case \"3\":\n",
    "            print(\"Tuesday\")\n",
    "      case \"4\":\n",
    "            print(\"Wednesday\")\n",
    "      case \"5\":\n",
    "            print(\"Thursday\")\n",
    "      case \"6\":\n",
    "            print(\"Friday\")\n",
    "      case \"7\":\n",
    "            print(\"Saturday\")\n",
    "      case _:\n",
    "            print(\"Invalid Day\")                                 "
   ]
  },
  {
   "cell_type": "code",
   "execution_count": null,
   "metadata": {},
   "outputs": [],
   "source": []
  }
 ],
 "metadata": {
  "kernelspec": {
   "display_name": "Python 3",
   "language": "python",
   "name": "python3"
  },
  "language_info": {
   "codemirror_mode": {
    "name": "ipython",
    "version": 3
   },
   "file_extension": ".py",
   "mimetype": "text/x-python",
   "name": "python",
   "nbconvert_exporter": "python",
   "pygments_lexer": "ipython3",
   "version": "3.11.5"
  },
  "orig_nbformat": 4
 },
 "nbformat": 4,
 "nbformat_minor": 2
}
