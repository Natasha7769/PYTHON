{
 "cells": [
  {
   "cell_type": "markdown",
   "metadata": {},
   "source": [
    "# Write a program to check whether a number is even or odd"
   ]
  },
  {
   "cell_type": "code",
   "execution_count": 2,
   "metadata": {},
   "outputs": [
    {
     "name": "stdout",
     "output_type": "stream",
     "text": [
      "Number is odd\n"
     ]
    }
   ],
   "source": [
    "num = int(input(\"Enter a number: \"))\n",
    "if num%2 == 0:\n",
    "    print(\"Number is even\")\n",
    "else :\n",
    "    print(\"Number is odd\")  "
   ]
  },
  {
   "cell_type": "markdown",
   "metadata": {},
   "source": [
    "# Write a program to check whether an entered alphabet is vowel or consonent"
   ]
  },
  {
   "cell_type": "code",
   "execution_count": 3,
   "metadata": {},
   "outputs": [
    {
     "name": "stdout",
     "output_type": "stream",
     "text": [
      "consonent\n"
     ]
    }
   ],
   "source": [
    "alphabet = input(\"enter a alphabet: \")\n",
    "if alphabet == \"a\" or alphabet == \"e\" or alphabet == \"i\" or alphabet == \"o\" or alphabet == \"u\" or alphabet == \"A\" or alphabet == \"E\" or alphabet == \"I\" or alphabet == \"O\" or alphabet == \"U\":\n",
    "    print(\"vowel\")\n",
    "else:\n",
    "    print(\"consonent\")    \n"
   ]
  },
  {
   "cell_type": "markdown",
   "metadata": {},
   "source": [
    "# Write a program to check whether a number is positive or negative"
   ]
  },
  {
   "cell_type": "code",
   "execution_count": 5,
   "metadata": {},
   "outputs": [
    {
     "name": "stdout",
     "output_type": "stream",
     "text": [
      "Number is negative\n"
     ]
    }
   ],
   "source": [
    "num = int(input(\"Enter a number: \"))\n",
    "if num > 0:\n",
    "    print(\"Number is positive\")\n",
    "else :\n",
    "    print(\"Number is negative\")    "
   ]
  },
  {
   "cell_type": "markdown",
   "metadata": {},
   "source": [
    "# Write a program to check a whether the shopkeeper had profit or loss"
   ]
  },
  {
   "cell_type": "code",
   "execution_count": 7,
   "metadata": {},
   "outputs": [
    {
     "name": "stdout",
     "output_type": "stream",
     "text": [
      "Shopkeeper had no proft no loss\n"
     ]
    }
   ],
   "source": [
    "cost_price = int(input(\"Enter a cost price: \"))\n",
    "selling_price = int(input(\"Enter a selling price: \"))\n",
    "if cost_price < selling_price:\n",
    "    print(\"Shopkeeper had profit\")\n",
    "elif selling_price < cost_price:\n",
    "    print(\"shopper had loss\")    \n",
    "else:\n",
    "    print(\"Shopkeeper had no proft no loss\")\n",
    "    "
   ]
  },
  {
   "cell_type": "markdown",
   "metadata": {},
   "source": [
    "# "
   ]
  },
  {
   "cell_type": "markdown",
   "metadata": {},
   "source": [
    "# Write a program to find the largest among three numbers and print the largest number."
   ]
  },
  {
   "cell_type": "code",
   "execution_count": 9,
   "metadata": {},
   "outputs": [
    {
     "name": "stdout",
     "output_type": "stream",
     "text": [
      "b is greater\n"
     ]
    }
   ],
   "source": [
    "a = float(input(\"Enter a number1: \"))\n",
    "b = float(input(\"Enter a number2: \"))\n",
    "c = float(input(\"Enter a number3: \"))\n",
    "if a > b and a > c:\n",
    "    print(\"a is greater\")\n",
    "elif b > a and b > c:\n",
    "    print(\"b is greater\") \n",
    "else:\n",
    "    print(\"c is geater\")            "
   ]
  },
  {
   "cell_type": "markdown",
   "metadata": {},
   "source": [
    "# Write a program to check whether a year is leap year or not."
   ]
  },
  {
   "cell_type": "code",
   "execution_count": 5,
   "metadata": {},
   "outputs": [
    {
     "name": "stdout",
     "output_type": "stream",
     "text": [
      "1900 is a leap year\n"
     ]
    }
   ],
   "source": [
    "year = int(input(\"Enter year: \"))\n",
    "if year % 400: \n",
    "    print(\"Leap year\")\n",
    "elif year % 100:\n",
    "    print(\"Not a Leap year\")\n",
    "elif year % 4:\n",
    "    print(\"Leap year\")\n",
    "else:\n",
    "    print(\"Not a Leap year\")"
   ]
  },
  {
   "cell_type": "markdown",
   "metadata": {},
   "source": [
    "# Write a program to check whether a character is alphabet or not"
   ]
  },
  {
   "cell_type": "code",
   "execution_count": 2,
   "metadata": {},
   "outputs": [
    {
     "name": "stdout",
     "output_type": "stream",
     "text": [
      "b is alphabet\n"
     ]
    }
   ],
   "source": [
    "character = (input(\"Enter a character: \"))\n",
    "if character >= \"a\" and character <= \"z\":\n",
    "    print(character, \"is alphabet\")\n",
    "elif character >= \"A\" and character <= \"Z\":\n",
    "    print(character,\"is alphabet\")    \n",
    "else:\n",
    "    print(character, \"is not a alphabet\")    "
   ]
  },
  {
   "cell_type": "markdown",
   "metadata": {},
   "source": [
    "# Write a program to check whether number comes in which range\n",
    "for example \n",
    "* num=5 \n",
    "* Range = 5 is in range t to 10\n",
    "\n",
    "\n",
    "* num= 12\n",
    "* Range = 11 to 20 \n",
    "* Output: 12 is in range of 11 to 20\n",
    "* num= 24\n",
    "* output: 24 is not in range of 1 to 10 and 11 to 20"
   ]
  },
  {
   "cell_type": "code",
   "execution_count": 1,
   "metadata": {},
   "outputs": [
    {
     "name": "stdout",
     "output_type": "stream",
     "text": [
      "15 is in range 11 to 20\n"
     ]
    }
   ],
   "source": [
    "num = int(input(\"Enter a number: \"))\n",
    "if num<=10 and num>=1:\n",
    "    print(num,\"is in range 1 to 10\")\n",
    "elif num<=20 and num>=11:\n",
    "    print(num,\"is in range 11 to 20\")\n",
    "else:\n",
    "    print(num,\"in not in range of 1 to 10 and 11 to 20\")    \n",
    "    "
   ]
  },
  {
   "cell_type": "markdown",
   "metadata": {},
   "source": [
    "# Write a program to accept the number from 1 to 7 display the name of the day like 1 for SUNDAY,2 for Monday and so on."
   ]
  },
  {
   "cell_type": "code",
   "execution_count": 1,
   "metadata": {},
   "outputs": [
    {
     "name": "stdout",
     "output_type": "stream",
     "text": [
      "Thursday\n"
     ]
    }
   ],
   "source": [
    "day = input(\"Enter a name of the day: \")\n",
    "match day:\n",
    "      case \"1\":\n",
    "            print(\"Sunday\")\n",
    "      case \"2\":\n",
    "            print(\"Monday\")\n",
    "      case \"3\":\n",
    "            print(\"Tuesday\")\n",
    "      case \"4\":\n",
    "            print(\"Wednesday\")\n",
    "      case \"5\":\n",
    "            print(\"Thursday\")\n",
    "      case \"6\":\n",
    "            print(\"Friday\")\n",
    "      case \"7\":\n",
    "            print(\"Saturday\")\n",
    "      case _:\n",
    "            print(\"Invalid Day\")                                 "
   ]
  },
  {
   "cell_type": "code",
   "execution_count": 1,
   "metadata": {},
   "outputs": [
    {
     "name": "stdout",
     "output_type": "stream",
     "text": [
      "*\n",
      "**\n",
      "***\n",
      "****\n",
      "*****\n"
     ]
    }
   ],
   "source": [
    "for i in range(1,6):\n",
    "    for j in range(1,i+1):\n",
    "        print('*',end='')\n",
    "    print()    \n"
   ]
  },
  {
   "cell_type": "code",
   "execution_count": 3,
   "metadata": {},
   "outputs": [
    {
     "name": "stdout",
     "output_type": "stream",
     "text": [
      "*****\n",
      "****\n",
      "***\n",
      "**\n",
      "*\n"
     ]
    }
   ],
   "source": [
    "for i in range(1,6):\n",
    "    for j in range(1,7-i):\n",
    "        print('*',end='')\n",
    "    print()    \n"
   ]
  },
  {
   "cell_type": "code",
   "execution_count": 4,
   "metadata": {},
   "outputs": [
    {
     "name": "stdout",
     "output_type": "stream",
     "text": [
      "*\n",
      "**\n",
      "***\n",
      "****\n",
      "*****\n",
      "****\n",
      "***\n",
      "**\n",
      "*\n",
      "\n"
     ]
    }
   ],
   "source": [
    "for i in range(1,6):\n",
    "    for j in range(1,i+1):\n",
    "        print('*',end='')\n",
    "    print()\n",
    "for i in range(1,6):\n",
    "    for j in range(1,6-i):\n",
    "        print('*',end='')\n",
    "    print()            "
   ]
  },
  {
   "cell_type": "code",
   "execution_count": 15,
   "metadata": {},
   "outputs": [
    {
     "name": "stdout",
     "output_type": "stream",
     "text": [
      "        * \n",
      "      * * \n",
      "    * * * \n",
      "  * * * * \n",
      "* * * * * \n"
     ]
    }
   ],
   "source": [
    "for i in range(1,6):\n",
    "    for j in range(1,6-i):\n",
    "        print(' ',end=' ')\n",
    "    for k in range(1,i+1):  \n",
    "        print('*',end=' ') \n",
    "    print()           \n"
   ]
  },
  {
   "cell_type": "code",
   "execution_count": 14,
   "metadata": {},
   "outputs": [
    {
     "name": "stdout",
     "output_type": "stream",
     "text": [
      "    * \n",
      "   * * \n",
      "  * * * \n",
      " * * * * \n",
      "* * * * * \n"
     ]
    }
   ],
   "source": [
    "for i in range(1,6):\n",
    "    for j in range(1,6-i):\n",
    "        print(' ',end='')\n",
    "    for k in range(1,i+1):  \n",
    "        print('*',end=' ') \n",
    "    print()"
   ]
  },
  {
   "cell_type": "code",
   "execution_count": 17,
   "metadata": {},
   "outputs": [
    {
     "name": "stdout",
     "output_type": "stream",
     "text": [
      "    * \n",
      "   * * \n",
      "  * * * \n",
      " * * * * \n",
      "* * * * * \n",
      " * * * * \n",
      "  * * * \n",
      "   * * \n",
      "    * \n",
      "     \n"
     ]
    }
   ],
   "source": [
    "for i in range(1,6):\n",
    "    for j in range(1,6-i):\n",
    "        print(' ',end='')\n",
    "    for k in range(1,i+1):  \n",
    "        print('*',end=' ') \n",
    "    print()\n",
    "for i in range(1,6):\n",
    "    for j in range(1,i+1):\n",
    "        print(' ',end='')\n",
    "    for k in range(1,6-i):  \n",
    "        print('*',end=' ') \n",
    "    print()"
   ]
  },
  {
   "cell_type": "code",
   "execution_count": 21,
   "metadata": {},
   "outputs": [
    {
     "name": "stdout",
     "output_type": "stream",
     "text": [
      "5\n",
      "1\n",
      "15\n"
     ]
    }
   ],
   "source": [
    "a=[1,2,3,4,5]\n",
    "print(max(a))\n",
    "print(min(a))\n",
    "print(sum(a))\n"
   ]
  },
  {
   "cell_type": "code",
   "execution_count": 25,
   "metadata": {},
   "outputs": [
    {
     "name": "stdout",
     "output_type": "stream",
     "text": [
      "prime\n"
     ]
    }
   ],
   "source": [
    "num=int(input('enter a no.'))  # prime number\n",
    "for i in range(1,num):\n",
    "    if num%2==0:\n",
    "        print('not prime')\n",
    "        break \n",
    "else:\n",
    "    print('prime')\n",
    "\n"
   ]
  },
  {
   "cell_type": "code",
   "execution_count": 67,
   "metadata": {},
   "outputs": [
    {
     "name": "stdout",
     "output_type": "stream",
     "text": [
      "0, 1, 1, 2, 3, 5, 8, "
     ]
    }
   ],
   "source": [
    "num=int(input('enter a no.')) #Fibonacci\n",
    "a=0\n",
    "b=1\n",
    "sum=0\n",
    "while sum<num:\n",
    "    print(sum,end=', ')\n",
    "    a=b\n",
    "    b=sum\n",
    "    sum=a+b\n",
    "   \n",
    "    "
   ]
  },
  {
   "cell_type": "code",
   "execution_count": 82,
   "metadata": {},
   "outputs": [
    {
     "name": "stdout",
     "output_type": "stream",
     "text": [
      "0, 1, 1, 2, 3, 5, 8, 13, "
     ]
    }
   ],
   "source": [
    "num=int(input('enter a no.')) #Fibonacci\n",
    "a=0\n",
    "b=1\n",
    "sum=0\n",
    "for i in range(1,num):\n",
    "    if sum<num:\n",
    "        print(sum,end=', ')\n",
    "        a=b\n",
    "        b=sum\n",
    "        sum=a+b\n",
    "   \n",
    " \n",
    "   "
   ]
  },
  {
   "cell_type": "code",
   "execution_count": 84,
   "metadata": {},
   "outputs": [
    {
     "name": "stdout",
     "output_type": "stream",
     "text": [
      "654\n"
     ]
    }
   ],
   "source": [
    "# reversing number  #456  \n",
    "num=int(input('enter a no.'))\n",
    "rev=0\n",
    "while num>0:\n",
    "    rev=(rev*10)+num%10\n",
    "    num=num//10\n",
    "print(rev)    \n"
   ]
  },
  {
   "cell_type": "code",
   "execution_count": 94,
   "metadata": {},
   "outputs": [
    {
     "name": "stdout",
     "output_type": "stream",
     "text": [
      "ulahs\n"
     ]
    }
   ],
   "source": [
    "# reversing string using slicing\n",
    "str=input(\"Enter a string:\")\n",
    "print(str[::-1])"
   ]
  },
  {
   "cell_type": "code",
   "execution_count": 97,
   "metadata": {},
   "outputs": [
    {
     "name": "stdout",
     "output_type": "stream",
     "text": [
      "ulahs"
     ]
    }
   ],
   "source": [
    "# reversing string using loop\n",
    "str=input(\"Enter a string:\")\n",
    "length=len(str)\n",
    "for i in range(length-1,-1,-1):\n",
    "    print(str[i],end='')"
   ]
  },
  {
   "cell_type": "code",
   "execution_count": 91,
   "metadata": {},
   "outputs": [
    {
     "name": "stdout",
     "output_type": "stream",
     "text": [
      "palindrome\n"
     ]
    }
   ],
   "source": [
    "##Palindrome number  #After reversing a number we get the same number\n",
    "num=int(input('enter a no.'))\n",
    "rev=0\n",
    "orig=num\n",
    "while num>0:\n",
    "    rev=(rev*10)+num%10\n",
    "    num=num//10\n",
    "if orig==rev:\n",
    "    print('palindrome')\n",
    "else:\n",
    "    print('not palindrome')        \n"
   ]
  },
  {
   "cell_type": "code",
   "execution_count": 90,
   "metadata": {},
   "outputs": [
    {
     "name": "stdout",
     "output_type": "stream",
     "text": [
      "Armstrong number\n"
     ]
    }
   ],
   "source": [
    "#Armstrong number  #sum of cube of all digit of number equal to original number\n",
    "num=int(input('enter a number:')) #153   #1+125+27=153\n",
    "orig=num  \n",
    "sum=0\n",
    "while num>0:\n",
    "    sum=sum+(num%10)*(num%10)*(num%10)\n",
    "    num=num//10\n",
    "if orig==sum:\n",
    "    print('Armstrong number')\n",
    "else:\n",
    "    print('not armstrong')        "
   ]
  },
  {
   "cell_type": "code",
   "execution_count": null,
   "metadata": {},
   "outputs": [],
   "source": []
  }
 ],
 "metadata": {
  "kernelspec": {
   "display_name": "Python 3",
   "language": "python",
   "name": "python3"
  },
  "language_info": {
   "codemirror_mode": {
    "name": "ipython",
    "version": 3
   },
   "file_extension": ".py",
   "mimetype": "text/x-python",
   "name": "python",
   "nbconvert_exporter": "python",
   "pygments_lexer": "ipython3",
   "version": "3.11.5"
  },
  "orig_nbformat": 4
 },
 "nbformat": 4,
 "nbformat_minor": 2
}
