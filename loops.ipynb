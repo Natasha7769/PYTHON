{
 "cells": [
  {
   "cell_type": "markdown",
   "metadata": {},
   "source": [
    "# Loops\n",
    " * for : used to iterate over a sequence (list, tuple, string) or other iterable objects\n",
    "     * for loop is used when we know the number of iterations\n",
    " * while : used to iterate over a block of code as long as the test expression (condition) is true\n",
    "     * while loop is used when we don't know the number of iterations"
   ]
  },
  {
   "cell_type": "markdown",
   "metadata": {},
   "source": [
    "# for loop\n",
    "## range()\n",
    "\n",
    "1. range(5)\n",
    " * start=0\n",
    " * condition<5\n",
    " * increment=1\n",
    " * 0 1 2 3 4\n",
    "\n",
    "\n",
    " 1. range(1,6)\n",
    " * start=1\n",
    " * condition<6\n",
    " * increment=1\n",
    " * 1 2 3 4 5\n",
    "\n",
    "\n",
    " 1. range(1,6,2)\n",
    " * start=1\n",
    " * condition<6\n",
    " * increment=2\n",
    " * 1 3 5"
   ]
  },
  {
   "cell_type": "markdown",
   "metadata": {},
   "source": []
  },
  {
   "cell_type": "code",
   "execution_count": 2,
   "metadata": {},
   "outputs": [
    {
     "name": "stdout",
     "output_type": "stream",
     "text": [
      "0\n",
      "1\n",
      "2\n",
      "3\n",
      "4\n"
     ]
    }
   ],
   "source": [
    "for i in range(5):\n",
    "    print(i)"
   ]
  },
  {
   "cell_type": "code",
   "execution_count": 5,
   "metadata": {},
   "outputs": [
    {
     "name": "stdout",
     "output_type": "stream",
     "text": [
      "1\n",
      "2\n",
      "3\n",
      "4\n",
      "5\n"
     ]
    }
   ],
   "source": [
    "for i in range(1,6):\n",
    "    print(i)"
   ]
  },
  {
   "cell_type": "code",
   "execution_count": 6,
   "metadata": {},
   "outputs": [
    {
     "name": "stdout",
     "output_type": "stream",
     "text": [
      "1\n",
      "3\n",
      "5\n"
     ]
    }
   ],
   "source": [
    "for i in range(1,6,2):\n",
    "    print(i)"
   ]
  },
  {
   "cell_type": "code",
   "execution_count": 10,
   "metadata": {},
   "outputs": [
    {
     "name": "stdout",
     "output_type": "stream",
     "text": [
      "0\n",
      "2\n",
      "4\n"
     ]
    }
   ],
   "source": [
    "for i in range(0,6,2):\n",
    "    print(i)"
   ]
  },
  {
   "cell_type": "code",
   "execution_count": 12,
   "metadata": {},
   "outputs": [
    {
     "name": "stdout",
     "output_type": "stream",
     "text": [
      "Hello World\n",
      "Hello World\n",
      "Hello World\n",
      "Hello World\n",
      "Hello World\n"
     ]
    }
   ],
   "source": [
    "for i in range(5):\n",
    "    print(\"Hello World\")"
   ]
  },
  {
   "cell_type": "markdown",
   "metadata": {},
   "source": [
    "## Wrtie a program to print numbers from 1 to 10"
   ]
  },
  {
   "cell_type": "code",
   "execution_count": 1,
   "metadata": {},
   "outputs": [
    {
     "name": "stdout",
     "output_type": "stream",
     "text": [
      "0\n",
      "1\n",
      "2\n",
      "3\n",
      "4\n",
      "5\n",
      "6\n",
      "7\n",
      "8\n",
      "9\n"
     ]
    }
   ],
   "source": [
    "for i in range(10):\n",
    "    print (i)"
   ]
  },
  {
   "cell_type": "code",
   "execution_count": 3,
   "metadata": {},
   "outputs": [
    {
     "name": "stdout",
     "output_type": "stream",
     "text": [
      "1\n",
      "2\n",
      "3\n",
      "4\n",
      "5\n",
      "6\n",
      "7\n",
      "8\n",
      "9\n",
      "10\n"
     ]
    }
   ],
   "source": [
    "for i in range(1,11):\n",
    "    print (i)"
   ]
  },
  {
   "cell_type": "markdown",
   "metadata": {},
   "source": [
    "\n",
    "## Write a program to print even number from 1 to 10"
   ]
  },
  {
   "cell_type": "code",
   "execution_count": 7,
   "metadata": {},
   "outputs": [
    {
     "name": "stdout",
     "output_type": "stream",
     "text": [
      "2\n",
      "not even no.\n",
      "4\n",
      "not even no.\n",
      "6\n",
      "not even no.\n",
      "8\n",
      "not even no.\n",
      "10\n"
     ]
    }
   ],
   "source": [
    "for i in range(2,11):\n",
    "    if i%2==0:\n",
    "      print(i)\n",
    "    else:\n",
    "        print(\"not even no.\")\n"
   ]
  },
  {
   "cell_type": "code",
   "execution_count": 9,
   "metadata": {},
   "outputs": [
    {
     "name": "stdout",
     "output_type": "stream",
     "text": [
      "2\n",
      "4\n",
      "6\n",
      "8\n",
      "10\n"
     ]
    }
   ],
   "source": [
    "for i in range(2,11):\n",
    "    if i%2==0:\n",
    "      print(i)\n",
    "   "
   ]
  },
  {
   "cell_type": "markdown",
   "metadata": {},
   "source": [
    "## Write a program to print odd number from 1 to n "
   ]
  },
  {
   "cell_type": "code",
   "execution_count": 11,
   "metadata": {},
   "outputs": [
    {
     "name": "stdout",
     "output_type": "stream",
     "text": [
      "1\n",
      "3\n",
      "5\n",
      "7\n",
      "9\n"
     ]
    }
   ],
   "source": [
    "n = int(input(\"Enter a range: \")) #input= 10\n",
    "for i in range(1,n+1,2):\n",
    "    print(i)\n"
   ]
  },
  {
   "cell_type": "code",
   "execution_count": 20,
   "metadata": {},
   "outputs": [
    {
     "name": "stdout",
     "output_type": "stream",
     "text": [
      "1\n",
      "3\n",
      "5\n",
      "7\n",
      "9\n"
     ]
    }
   ],
   "source": [
    "n = int(input(\"Enter range: \")) # input=10\n",
    "for i in range(n+1):\n",
    "    if i % 2 != 0:\n",
    "        print(i)"
   ]
  },
  {
   "cell_type": "markdown",
   "metadata": {},
   "source": [
    "### Write table of 2"
   ]
  },
  {
   "cell_type": "code",
   "execution_count": 1,
   "metadata": {},
   "outputs": [
    {
     "name": "stdout",
     "output_type": "stream",
     "text": [
      "2 * 1 = 2\n",
      "2 * 2 = 4\n",
      "2 * 3 = 6\n",
      "2 * 4 = 8\n",
      "2 * 5 = 10\n",
      "2 * 6 = 12\n",
      "2 * 7 = 14\n",
      "2 * 8 = 16\n",
      "2 * 9 = 18\n",
      "2 * 10 = 20\n"
     ]
    }
   ],
   "source": [
    "for i in range(1,11):\n",
    "    print(\"2\",\"*\",i,\"=\",2*i)"
   ]
  },
  {
   "cell_type": "markdown",
   "metadata": {},
   "source": [
    "## Reverse case in for loop\n",
    " * range(10,0,-1)"
   ]
  },
  {
   "cell_type": "code",
   "execution_count": 16,
   "metadata": {},
   "outputs": [
    {
     "name": "stdout",
     "output_type": "stream",
     "text": [
      "10\n",
      "9\n",
      "8\n",
      "7\n",
      "6\n",
      "5\n",
      "4\n",
      "3\n",
      "2\n",
      "1\n"
     ]
    }
   ],
   "source": [
    "for i in range(10,0,-1):\n",
    "    print(i)\n"
   ]
  },
  {
   "cell_type": "code",
   "execution_count": 17,
   "metadata": {},
   "outputs": [
    {
     "name": "stdout",
     "output_type": "stream",
     "text": [
      "10\n",
      "8\n",
      "6\n",
      "4\n",
      "2\n"
     ]
    }
   ],
   "source": [
    "for i in range(10,0,-2):\n",
    "    print(i)"
   ]
  },
  {
   "cell_type": "code",
   "execution_count": 18,
   "metadata": {},
   "outputs": [
    {
     "name": "stdout",
     "output_type": "stream",
     "text": [
      "10\n",
      "9\n",
      "8\n",
      "7\n",
      "6\n",
      "5\n"
     ]
    }
   ],
   "source": [
    "for i in range(10,4,-1):\n",
    "    print(i)"
   ]
  },
  {
   "cell_type": "code",
   "execution_count": 19,
   "metadata": {},
   "outputs": [
    {
     "name": "stdout",
     "output_type": "stream",
     "text": [
      "10\n",
      "8\n",
      "6\n"
     ]
    }
   ],
   "source": [
    "for i in range(10,4,-2):\n",
    "    print(i)"
   ]
  },
  {
   "cell_type": "markdown",
   "metadata": {},
   "source": [
    "# Write a program to print sum of numbers from 1 to n"
   ]
  },
  {
   "cell_type": "code",
   "execution_count": 2,
   "metadata": {},
   "outputs": [
    {
     "name": "stdout",
     "output_type": "stream",
     "text": [
      "6\n"
     ]
    }
   ],
   "source": [
    "num = int(input(\"Enter number: \"))\n",
    "sum = 0\n",
    "for i in range(1, num+1):\n",
    "    sum = sum + i   # sum += i\n",
    "print(sum)"
   ]
  },
  {
   "cell_type": "markdown",
   "metadata": {},
   "source": [
    "# Write a program to print sum of even numbers from 1 to n"
   ]
  },
  {
   "cell_type": "code",
   "execution_count": 1,
   "metadata": {},
   "outputs": [
    {
     "name": "stdout",
     "output_type": "stream",
     "text": [
      "812\n"
     ]
    }
   ],
   "source": [
    "num = int(input(\"Enter number: \"))\n",
    "sum = 0\n",
    "for i in range(1, num+1):\n",
    "    if i%2 == 0:\n",
    "        sum = sum + i\n",
    "print(sum)"
   ]
  },
  {
   "cell_type": "markdown",
   "metadata": {},
   "source": [
    "# Write a program to print sum of odd numbers from 1 to n"
   ]
  },
  {
   "cell_type": "code",
   "execution_count": 3,
   "metadata": {},
   "outputs": [
    {
     "name": "stdout",
     "output_type": "stream",
     "text": [
      "9\n"
     ]
    }
   ],
   "source": [
    "num = int(input(\"Enter number: \"))\n",
    "sum = 0\n",
    "for i in range(1, num+1):\n",
    "    if i%2 != 0:\n",
    "        sum = sum + i\n",
    "\n",
    "print(sum)"
   ]
  },
  {
   "cell_type": "markdown",
   "metadata": {},
   "source": [
    "# Write a program to print sum of squares of numbers from 1 to n"
   ]
  },
  {
   "cell_type": "code",
   "execution_count": 6,
   "metadata": {},
   "outputs": [
    {
     "name": "stdout",
     "output_type": "stream",
     "text": [
      "5\n"
     ]
    }
   ],
   "source": [
    "num = int(input(\"Enter number: \"))\n",
    "sum = 0\n",
    "for i in range(1, num+1):\n",
    "    sum = i**2 + sum\n",
    "\n",
    "print(sum)"
   ]
  },
  {
   "cell_type": "markdown",
   "metadata": {},
   "source": [
    "# Write a program to check whether number is prime or not"
   ]
  },
  {
   "cell_type": "code",
   "execution_count": 22,
   "metadata": {},
   "outputs": [
    {
     "name": "stdout",
     "output_type": "stream",
     "text": [
      "Not prime\n"
     ]
    }
   ],
   "source": [
    "num = int(input(\"Enter number: \"))\n",
    "count = 0\n",
    "for i in range(2, num):\n",
    "    if num%i == 0:\n",
    "        count = count + 1\n",
    "        break # break the loop\n",
    "\n",
    "if count == 0:\n",
    "    print(\"Prime\")\n",
    "else:\n",
    "    print(\"Not prime\")"
   ]
  },
  {
   "cell_type": "code",
   "execution_count": 2,
   "metadata": {},
   "outputs": [
    {
     "name": "stdout",
     "output_type": "stream",
     "text": [
      "not prime\n"
     ]
    }
   ],
   "source": [
    "num = int(input(\"Enter number: \"))\n",
    "for i in range(2, num):\n",
    "    if num%i == 0:\n",
    "        print(\"not prime\")  \n",
    "        break # break the loop      \n",
    "else:\n",
    "    print(\"prime\")"
   ]
  },
  {
   "cell_type": "markdown",
   "metadata": {},
   "source": [
    "### fibonacci series"
   ]
  },
  {
   "cell_type": "code",
   "execution_count": 71,
   "metadata": {},
   "outputs": [
    {
     "name": "stdout",
     "output_type": "stream",
     "text": [
      "0 , 1 ,1, 2, 3, 5, 8, 13, "
     ]
    }
   ],
   "source": [
    "# using while loop\n",
    "num = int(input(\"Enter number: \"))\n",
    "a = 0\n",
    "b = 1\n",
    "sum = 0\n",
    "print(a, \",\", b, \",\", end=\"\")\n",
    "while sum < num:\n",
    "    sum = a + b\n",
    "    a = b\n",
    "    b = sum\n",
    "    print(sum,end=\", \" )"
   ]
  },
  {
   "cell_type": "code",
   "execution_count": 73,
   "metadata": {},
   "outputs": [
    {
     "name": "stdout",
     "output_type": "stream",
     "text": [
      "0 1 1 2 3 5 8 "
     ]
    }
   ],
   "source": [
    "num = int(input(\"Enter number: \"))\n",
    "a = 0\n",
    "b = 1\n",
    "sum = 0\n",
    "while sum<=num:\n",
    "    print(sum,end=\" \")\n",
    "    a=b\n",
    "    b=sum\n",
    "    sum=a+b\n"
   ]
  },
  {
   "cell_type": "code",
   "execution_count": 72,
   "metadata": {},
   "outputs": [
    {
     "name": "stdout",
     "output_type": "stream",
     "text": [
      "0 , 1 ,1, 2, 3, 5, 8, 13, 21, 34, 55, 89, "
     ]
    }
   ],
   "source": [
    "# using for loop\n",
    "num = int(input(\"Enter number: \"))\n",
    "a = 0\n",
    "b = 1\n",
    "sum = 0\n",
    "print(a, \",\", b, \",\", end=\"\")\n",
    "for i in range(num):\n",
    "    sum = a + b\n",
    "    a = b \n",
    "    b = sum\n",
    "    print(sum, end=\", \")"
   ]
  },
  {
   "cell_type": "markdown",
   "metadata": {},
   "source": [
    "### Reversing a digit"
   ]
  },
  {
   "cell_type": "code",
   "execution_count": 39,
   "metadata": {},
   "outputs": [
    {
     "name": "stdout",
     "output_type": "stream",
     "text": [
      "782\n"
     ]
    }
   ],
   "source": [
    "num=int(input('enter a number:')) #287\n",
    "rev=0 \n",
    "while num>0:\n",
    "    rev=(rev*10)+num%10 #number divided by 10 always returns its last value\n",
    "    num=num//10\n",
    "print(rev)    \n",
    "\n",
    "    \n"
   ]
  },
  {
   "cell_type": "markdown",
   "metadata": {},
   "source": [
    "### Palindrome number"
   ]
  },
  {
   "cell_type": "code",
   "execution_count": 76,
   "metadata": {},
   "outputs": [
    {
     "name": "stdout",
     "output_type": "stream",
     "text": [
      "not palindrome\n"
     ]
    }
   ],
   "source": [
    "num=int(input('enter a number:'))\n",
    "rev=0 \n",
    "x=num\n",
    "while num>0:\n",
    "    rev=(rev*10)+num%10 #number divided by 10 always returns its last value\n",
    "    num=num//10\n",
    "if x==rev:\n",
    "    print('palindrome')\n",
    "else:        \n",
    "    print('not palindrome')"
   ]
  },
  {
   "cell_type": "markdown",
   "metadata": {},
   "source": [
    "### Armstrong number"
   ]
  },
  {
   "cell_type": "code",
   "execution_count": 43,
   "metadata": {},
   "outputs": [
    {
     "name": "stdout",
     "output_type": "stream",
     "text": [
      "Armstrong number\n"
     ]
    }
   ],
   "source": [
    "num=int(input('enter a number:')) #153\n",
    "orig=num  \n",
    "sum=0\n",
    "while num>0:\n",
    "    sum=sum+(num%10)*(num%10)*(num%10)\n",
    "    num=num//10\n",
    "if orig==sum:\n",
    "    print('Armstrong number')\n",
    "else:\n",
    "    print('not armstrong')        "
   ]
  },
  {
   "cell_type": "markdown",
   "metadata": {},
   "source": [
    "# Write a program that prompts the user to input a positive integer.It should then print the multiplication table of that number."
   ]
  },
  {
   "cell_type": "code",
   "execution_count": 6,
   "metadata": {},
   "outputs": [
    {
     "name": "stdout",
     "output_type": "stream",
     "text": [
      "3 * 1 = 3\n",
      "3 * 2 = 6\n",
      "3 * 3 = 9\n",
      "3 * 4 = 12\n",
      "3 * 5 = 15\n",
      "3 * 6 = 18\n",
      "3 * 7 = 21\n",
      "3 * 8 = 24\n",
      "3 * 9 = 27\n",
      "3 * 10 = 30\n"
     ]
    }
   ],
   "source": [
    "num = int(input(\"Enter the number: \"))\n",
    "for i in range(1,11):\n",
    "    print(num,\"*\",i,\"=\",num*i)"
   ]
  },
  {
   "cell_type": "markdown",
   "metadata": {},
   "source": [
    "# Write a program that sum of the factorial of a number input by the user"
   ]
  },
  {
   "cell_type": "code",
   "execution_count": 15,
   "metadata": {},
   "outputs": [
    {
     "name": "stdout",
     "output_type": "stream",
     "text": [
      "15\n"
     ]
    }
   ],
   "source": [
    "num = int(input(\"Enter a number: \"))\n",
    "factorial = 0\n",
    "for i in range(1,num+1):\n",
    "    factorial = factorial+i\n",
    "print(factorial)\n"
   ]
  },
  {
   "cell_type": "markdown",
   "metadata": {},
   "source": [
    "# Write a program to find the factorial value of any number entered through the keyboard"
   ]
  },
  {
   "cell_type": "code",
   "execution_count": null,
   "metadata": {},
   "outputs": [],
   "source": [
    "num = int(input(\"Enter a number: \"))\n",
    "factorial = 1\n",
    "for i in range(1,num+1):\n",
    "    factorial = factorial*i\n",
    "print(factorial)"
   ]
  },
  {
   "cell_type": "markdown",
   "metadata": {},
   "source": [
    "# Nested For loop\n",
    " * Write a program to print multiplication table of 1 to 10"
   ]
  },
  {
   "cell_type": "code",
   "execution_count": 1,
   "metadata": {},
   "outputs": [
    {
     "name": "stdout",
     "output_type": "stream",
     "text": [
      "1 *  1  =  1\n",
      "1 *  2  =  2\n",
      "1 *  3  =  3\n",
      "1 *  4  =  4\n",
      "1 *  5  =  5\n",
      "1 *  6  =  6\n",
      "1 *  7  =  7\n",
      "1 *  8  =  8\n",
      "1 *  9  =  9\n",
      "1 *  10  =  10\n",
      "2 *  1  =  2\n",
      "2 *  2  =  4\n",
      "2 *  3  =  6\n",
      "2 *  4  =  8\n",
      "2 *  5  =  10\n",
      "2 *  6  =  12\n",
      "2 *  7  =  14\n",
      "2 *  8  =  16\n",
      "2 *  9  =  18\n",
      "2 *  10  =  20\n",
      "3 *  1  =  3\n",
      "3 *  2  =  6\n",
      "3 *  3  =  9\n",
      "3 *  4  =  12\n",
      "3 *  5  =  15\n",
      "3 *  6  =  18\n",
      "3 *  7  =  21\n",
      "3 *  8  =  24\n",
      "3 *  9  =  27\n",
      "3 *  10  =  30\n",
      "4 *  1  =  4\n",
      "4 *  2  =  8\n",
      "4 *  3  =  12\n",
      "4 *  4  =  16\n",
      "4 *  5  =  20\n",
      "4 *  6  =  24\n",
      "4 *  7  =  28\n",
      "4 *  8  =  32\n",
      "4 *  9  =  36\n",
      "4 *  10  =  40\n",
      "5 *  1  =  5\n",
      "5 *  2  =  10\n",
      "5 *  3  =  15\n",
      "5 *  4  =  20\n",
      "5 *  5  =  25\n",
      "5 *  6  =  30\n",
      "5 *  7  =  35\n",
      "5 *  8  =  40\n",
      "5 *  9  =  45\n",
      "5 *  10  =  50\n",
      "6 *  1  =  6\n",
      "6 *  2  =  12\n",
      "6 *  3  =  18\n",
      "6 *  4  =  24\n",
      "6 *  5  =  30\n",
      "6 *  6  =  36\n",
      "6 *  7  =  42\n",
      "6 *  8  =  48\n",
      "6 *  9  =  54\n",
      "6 *  10  =  60\n",
      "7 *  1  =  7\n",
      "7 *  2  =  14\n",
      "7 *  3  =  21\n",
      "7 *  4  =  28\n",
      "7 *  5  =  35\n",
      "7 *  6  =  42\n",
      "7 *  7  =  49\n",
      "7 *  8  =  56\n",
      "7 *  9  =  63\n",
      "7 *  10  =  70\n",
      "8 *  1  =  8\n",
      "8 *  2  =  16\n",
      "8 *  3  =  24\n",
      "8 *  4  =  32\n",
      "8 *  5  =  40\n",
      "8 *  6  =  48\n",
      "8 *  7  =  56\n",
      "8 *  8  =  64\n",
      "8 *  9  =  72\n",
      "8 *  10  =  80\n",
      "9 *  1  =  9\n",
      "9 *  2  =  18\n",
      "9 *  3  =  27\n",
      "9 *  4  =  36\n",
      "9 *  5  =  45\n",
      "9 *  6  =  54\n",
      "9 *  7  =  63\n",
      "9 *  8  =  72\n",
      "9 *  9  =  81\n",
      "9 *  10  =  90\n",
      "10 *  1  =  10\n",
      "10 *  2  =  20\n",
      "10 *  3  =  30\n",
      "10 *  4  =  40\n",
      "10 *  5  =  50\n",
      "10 *  6  =  60\n",
      "10 *  7  =  70\n",
      "10 *  8  =  80\n",
      "10 *  9  =  90\n",
      "10 *  10  =  100\n"
     ]
    }
   ],
   "source": [
    "for i in range(1, 11):\n",
    "    for j in range(1, 11):\n",
    "        print(i , \"* \", j, \" = \", i*j)"
   ]
  },
  {
   "cell_type": "markdown",
   "metadata": {},
   "source": [
    "# Write a program to print multiplication table of 1 to 10 in reverse order"
   ]
  },
  {
   "cell_type": "code",
   "execution_count": 2,
   "metadata": {},
   "outputs": [
    {
     "name": "stdout",
     "output_type": "stream",
     "text": [
      "10 *  1  =  10\n",
      "10 *  2  =  20\n",
      "10 *  3  =  30\n",
      "10 *  4  =  40\n",
      "10 *  5  =  50\n",
      "10 *  6  =  60\n",
      "10 *  7  =  70\n",
      "10 *  8  =  80\n",
      "10 *  9  =  90\n",
      "10 *  10  =  100\n",
      "9 *  1  =  9\n",
      "9 *  2  =  18\n",
      "9 *  3  =  27\n",
      "9 *  4  =  36\n",
      "9 *  5  =  45\n",
      "9 *  6  =  54\n",
      "9 *  7  =  63\n",
      "9 *  8  =  72\n",
      "9 *  9  =  81\n",
      "9 *  10  =  90\n",
      "8 *  1  =  8\n",
      "8 *  2  =  16\n",
      "8 *  3  =  24\n",
      "8 *  4  =  32\n",
      "8 *  5  =  40\n",
      "8 *  6  =  48\n",
      "8 *  7  =  56\n",
      "8 *  8  =  64\n",
      "8 *  9  =  72\n",
      "8 *  10  =  80\n",
      "7 *  1  =  7\n",
      "7 *  2  =  14\n",
      "7 *  3  =  21\n",
      "7 *  4  =  28\n",
      "7 *  5  =  35\n",
      "7 *  6  =  42\n",
      "7 *  7  =  49\n",
      "7 *  8  =  56\n",
      "7 *  9  =  63\n",
      "7 *  10  =  70\n",
      "6 *  1  =  6\n",
      "6 *  2  =  12\n",
      "6 *  3  =  18\n",
      "6 *  4  =  24\n",
      "6 *  5  =  30\n",
      "6 *  6  =  36\n",
      "6 *  7  =  42\n",
      "6 *  8  =  48\n",
      "6 *  9  =  54\n",
      "6 *  10  =  60\n",
      "5 *  1  =  5\n",
      "5 *  2  =  10\n",
      "5 *  3  =  15\n",
      "5 *  4  =  20\n",
      "5 *  5  =  25\n",
      "5 *  6  =  30\n",
      "5 *  7  =  35\n",
      "5 *  8  =  40\n",
      "5 *  9  =  45\n",
      "5 *  10  =  50\n",
      "4 *  1  =  4\n",
      "4 *  2  =  8\n",
      "4 *  3  =  12\n",
      "4 *  4  =  16\n",
      "4 *  5  =  20\n",
      "4 *  6  =  24\n",
      "4 *  7  =  28\n",
      "4 *  8  =  32\n",
      "4 *  9  =  36\n",
      "4 *  10  =  40\n",
      "3 *  1  =  3\n",
      "3 *  2  =  6\n",
      "3 *  3  =  9\n",
      "3 *  4  =  12\n",
      "3 *  5  =  15\n",
      "3 *  6  =  18\n",
      "3 *  7  =  21\n",
      "3 *  8  =  24\n",
      "3 *  9  =  27\n",
      "3 *  10  =  30\n",
      "2 *  1  =  2\n",
      "2 *  2  =  4\n",
      "2 *  3  =  6\n",
      "2 *  4  =  8\n",
      "2 *  5  =  10\n",
      "2 *  6  =  12\n",
      "2 *  7  =  14\n",
      "2 *  8  =  16\n",
      "2 *  9  =  18\n",
      "2 *  10  =  20\n",
      "1 *  1  =  1\n",
      "1 *  2  =  2\n",
      "1 *  3  =  3\n",
      "1 *  4  =  4\n",
      "1 *  5  =  5\n",
      "1 *  6  =  6\n",
      "1 *  7  =  7\n",
      "1 *  8  =  8\n",
      "1 *  9  =  9\n",
      "1 *  10  =  10\n"
     ]
    }
   ],
   "source": [
    "for i in range(10, 0, -1):\n",
    "    for j in range(1, 11):\n",
    "        print(i , \"* \", j, \" = \", i*j)"
   ]
  },
  {
   "cell_type": "markdown",
   "metadata": {},
   "source": [
    "# Write a program to print the series till the range entered by the user:\n",
    "* 1+3+5+7+9+11+13+15+17+19=100"
   ]
  },
  {
   "cell_type": "code",
   "execution_count": 4,
   "metadata": {},
   "outputs": [
    {
     "name": "stdout",
     "output_type": "stream",
     "text": [
      "1  + 3  + 5  + 7  + 9  + 11  + 13  + 15  + 17  + 19 =  100\n"
     ]
    }
   ],
   "source": [
    "num = int(input(\"Enter number: \"))\n",
    "sum = 0\n",
    "for i in range(1, num+1, 2):\n",
    "    if i < num-1:\n",
    "        print(i, \" + \",  end=\"\")\n",
    "        sum = sum + i\n",
    "    else:\n",
    "        print(i, end=\"\")\n",
    "        sum = sum + i\n",
    "\n",
    "print(\" = \", sum)\n"
   ]
  },
  {
   "cell_type": "markdown",
   "metadata": {},
   "source": [
    "# Write a program to print the series till the range entered by the user.\n",
    "* 1!+2!+3!+4!+5!+6!+7!+8!+9!+10!"
   ]
  },
  {
   "cell_type": "code",
   "execution_count": 11,
   "metadata": {},
   "outputs": [
    {
     "name": "stdout",
     "output_type": "stream",
     "text": [
      "1!+2!+3!+4!+5!+6!+7!+8!+9!+10!\n"
     ]
    }
   ],
   "source": [
    "num = int(input(\"Entered the range: \"))\n",
    "for i in range(1,num+1):\n",
    "        if i < num:\n",
    "            print(i,\"!\",\"+\",end=\"\",sep=\"\")\n",
    "        else:\n",
    "              print(i,\"!\",sep=\"\")"
   ]
  },
  {
   "cell_type": "markdown",
   "metadata": {},
   "source": [
    "# Write a program to print the series till the range entered by the user.\n",
    "1/1+1/2+1/3+1/4+1/5+1/6+1/7+1/8+1/9+1/10"
   ]
  },
  {
   "cell_type": "code",
   "execution_count": 13,
   "metadata": {},
   "outputs": [
    {
     "name": "stdout",
     "output_type": "stream",
     "text": [
      "1/1+1/2+1/3+1/4+1/5+1/6+1/7+1/8+1/9+1/10"
     ]
    }
   ],
   "source": [
    "num = int(input(\"Entered the range: \"))\n",
    "for i in range(1,num+1):\n",
    "    if i < num:\n",
    "        print(1,\"/\",i,\"+\",end=\"\",sep=\"\")\n",
    "    else:\n",
    "        print(1,\"/\",i,end=\"\",sep=\"\")    "
   ]
  },
  {
   "cell_type": "markdown",
   "metadata": {},
   "source": []
  },
  {
   "cell_type": "markdown",
   "metadata": {},
   "source": [
    "# Write a program to print the series till the range entered by the user.\n",
    " * 1+1/2+1/4+1/6+1/8+1/10"
   ]
  },
  {
   "cell_type": "code",
   "execution_count": 11,
   "metadata": {},
   "outputs": [
    {
     "name": "stdout",
     "output_type": "stream",
     "text": [
      "1/2+ 1/4+ 1/6+ 1/8+ 1/10 "
     ]
    }
   ],
   "source": [
    "num = int(input(\"Entered the range: \"))\n",
    "for i in range(1,num+1):\n",
    "    if i%2 == 0:\n",
    "        if i<num:\n",
    "            print(1,\"/\",i,\"+\",end=\" \",sep=\"\")\n",
    "        else:\n",
    "            print(1,\"/\",i,end=\" \",sep=\"\")    "
   ]
  },
  {
   "cell_type": "markdown",
   "metadata": {},
   "source": [
    "# Write a program to print the series till the range entered by the user:\n",
    "* 1+1/2!+1/3!+1/4!+1/5!+1/6!+1/7!+1/8!+1/9!+1/10!"
   ]
  },
  {
   "cell_type": "code",
   "execution_count": 16,
   "metadata": {},
   "outputs": [
    {
     "name": "stdout",
     "output_type": "stream",
     "text": [
      "1/1!+ 1/2!+ 1/3!+ 1/4!+ 1/5!+ 1/6!+ 1/7!+ 1/8!+ 1/9!+ 1/10! "
     ]
    }
   ],
   "source": [
    "num = int(input(\"Entered the range: \"))\n",
    "for i in range(1,num+1):\n",
    "        if i<num:\n",
    "            print(1,\"/\",i,\"!\",\"+\",end=\" \",sep=\"\")\n",
    "        else:\n",
    "               print(1,\"/\",i,\"!\",end=\" \",sep=\"\")\n",
    "                "
   ]
  },
  {
   "cell_type": "markdown",
   "metadata": {},
   "source": [
    "# Write a program to print the series till the range entered by the user:\n",
    "* 1!/1+2!/2+3!/3+4!/4+5!/5+6!/6+7!/7+8!/8+9!/9+10!/10"
   ]
  },
  {
   "cell_type": "code",
   "execution_count": 15,
   "metadata": {},
   "outputs": [
    {
     "name": "stdout",
     "output_type": "stream",
     "text": [
      "1!/1+2!/2+3!/3+4!/4+5!/5+6!/6+7!/7+8!/8+9!/9+10!/10"
     ]
    }
   ],
   "source": [
    "num = int(input(\"Enter the range: \"))\n",
    "for i in range(1,num+1):\n",
    "    if i<num:\n",
    "        print(i,\"!\",\"/\",i,\"+\",end=\"\",sep=\"\")\n",
    "    else:\n",
    "        print(i,\"!\",\"/\",i,end=\"\",sep=\"\")    "
   ]
  },
  {
   "cell_type": "markdown",
   "metadata": {},
   "source": [
    "# Write a program to print patterns given below\n",
    "\n",
    "1.                    *                          2.*********                    3.   *              4. *           5. *********\n",
    "                     ***                            *******                         ***                **              *******\n",
    "                    *****                            *****                         *****               ***              *****\n",
    "                   *******                            ***                         *******              ****              ***\n",
    "                  *********                            *                         *********             *****              *\n",
    "                                                                                  *******              ****              ***  \n",
    "                                                                                   *****               ***              ***** \n",
    "                                                                                    ***                **              *******   \n",
    "                                                                                     *                 *              *********"
   ]
  },
  {
   "cell_type": "code",
   "execution_count": 12,
   "metadata": {},
   "outputs": [
    {
     "name": "stdout",
     "output_type": "stream",
     "text": [
      "*\n",
      "**\n",
      "***\n",
      "****\n",
      "*****\n"
     ]
    }
   ],
   "source": [
    "num = int(input(\"Enter no. of rows:\"))\n",
    "for i in range(num+1):  # rows\n",
    "    for j in range(i+1):\n",
    "        print(\"*\",end = \"\")\n",
    "    print()        "
   ]
  },
  {
   "cell_type": "code",
   "execution_count": 57,
   "metadata": {},
   "outputs": [
    {
     "name": "stdout",
     "output_type": "stream",
     "text": [
      "*\n",
      "**\n",
      "***\n",
      "****\n",
      "*****\n"
     ]
    }
   ],
   "source": [
    "num = int(input(\"Entered the range: \"))\n",
    "for i in range(1,num+1): # rows\n",
    "    for j in range(1,i+1): #coloumns range (1,2)i.e.i=1(print one star)/range(1,3) i.e. i=2 (print 2 star) and so on\n",
    "        print(\"*\",end=\"\")\n",
    "    print()    \n",
    "\n",
    "                "
   ]
  },
  {
   "cell_type": "code",
   "execution_count": 45,
   "metadata": {},
   "outputs": [
    {
     "name": "stdout",
     "output_type": "stream",
     "text": [
      "*****\n",
      "****\n",
      "***\n",
      "**\n",
      "*\n",
      "\n"
     ]
    }
   ],
   "source": [
    "num = int(input(\"Enter no. of rows: \"))\n",
    "for i in range(num+1):\n",
    "    for j in range(num-i):\n",
    "        print(\"*\",end=\"\")\n",
    "    print()"
   ]
  },
  {
   "cell_type": "code",
   "execution_count": 8,
   "metadata": {},
   "outputs": [
    {
     "name": "stdout",
     "output_type": "stream",
     "text": [
      "*****\n",
      "****\n",
      "***\n",
      "**\n",
      "*\n"
     ]
    }
   ],
   "source": [
    "num= int(input(\"Entered no. of range: \"))\n",
    "for i in range(num,0,-1):\n",
    "    for j in range(1,i+1):\n",
    "        print(\"*\",end=\"\")\n",
    "    print()    "
   ]
  },
  {
   "cell_type": "code",
   "execution_count": 48,
   "metadata": {},
   "outputs": [
    {
     "name": "stdout",
     "output_type": "stream",
     "text": [
      "        * \n",
      "      * * \n",
      "    * * * \n",
      "  * * * * \n",
      "* * * * * \n"
     ]
    }
   ],
   "source": [
    "num= int(input(\"Entered the range: \"))\n",
    "for i in range(1,num+1):\n",
    "    for j in range(1,num+1-i):\n",
    "        print(\" \",end=\" \")\n",
    "    for k in range(1,i+1):\n",
    "        print(\"*\",end=\" \")\n",
    "    print()        "
   ]
  },
  {
   "cell_type": "code",
   "execution_count": 49,
   "metadata": {},
   "outputs": [
    {
     "name": "stdout",
     "output_type": "stream",
     "text": [
      "    * \n",
      "   * * \n",
      "  * * * \n",
      " * * * * \n",
      "* * * * * \n"
     ]
    }
   ],
   "source": [
    "num= int(input(\"Entered the range: \"))\n",
    "for i in range(1,num+1):\n",
    "    for j in range(1,num+1-i):\n",
    "        print(\" \",end=\"\")\n",
    "    for k in range(1,i+1):\n",
    "        print(\"*\",end=\" \")\n",
    "    print()        "
   ]
  },
  {
   "cell_type": "code",
   "execution_count": 51,
   "metadata": {},
   "outputs": [
    {
     "name": "stdout",
     "output_type": "stream",
     "text": [
      "    * \n",
      "   * * \n",
      "  * * * \n",
      " * * * * \n",
      "* * * * * \n",
      " * * * * \n",
      "  * * * \n",
      "   * * \n",
      "    * \n",
      "     \n"
     ]
    }
   ],
   "source": [
    "num= int(input(\"Entered the range: \"))\n",
    "for i in range(1,num+1):\n",
    "    for j in range(1,num+1-i):\n",
    "        print(\" \",end=\"\")\n",
    "    for k in range(1,i+1):\n",
    "        print(\"*\",end=\" \")\n",
    "    print()        \n",
    "for i in range(1,num+1):\n",
    "    for j in range(1,i+1):\n",
    "        print(\" \",end=\"\")\n",
    "    for k in range(1,num+1-i):\n",
    "        print(\"*\",end=\" \")\n",
    "    print()            "
   ]
  },
  {
   "cell_type": "code",
   "execution_count": 63,
   "metadata": {},
   "outputs": [
    {
     "name": "stdout",
     "output_type": "stream",
     "text": [
      "* \n",
      "* * \n",
      "* * * \n",
      "* * * * \n",
      "* * * * * \n",
      "* * * * * * \n",
      "* * * * * \n",
      "* * * * \n",
      "* * * \n",
      "* * \n",
      "* \n",
      "\n"
     ]
    }
   ],
   "source": [
    "num = int(input(\"Enter no. of rows: \"))\n",
    "for i in range(num+1):\n",
    "    for j in range(i+1):\n",
    "        print(\"*\",end=\" \")\n",
    "    print()              \n",
    "for i in range(num+1):\n",
    "    for j in range(num-i):\n",
    "        print(\"*\",end=\" \")\n",
    "    print()            "
   ]
  },
  {
   "cell_type": "code",
   "execution_count": 62,
   "metadata": {},
   "outputs": [
    {
     "name": "stdout",
     "output_type": "stream",
     "text": [
      "* \n",
      "* * \n",
      "* * * \n",
      "* * * * \n",
      "* * * * * \n",
      "* * * * \n",
      "* * * \n",
      "* * \n",
      "* \n"
     ]
    }
   ],
   "source": [
    "num = int(input(\"Entered the range: \"))\n",
    "for i in range(1,num+1): # rows\n",
    "    for j in range(1,i+1): #coloumns range (1,2)i.e.i=1(print one star)/range(1,3) i.e. i=2 (print 2 star) and so on\n",
    "        print(\"*\",end=\" \")\n",
    "    print()    \n",
    "for k in range(1,num): # rows\n",
    "    for l in range(1,num+1-k): #coloumns range (1,2)i.e.i=1(print one star)/range(1,3) i.e. i=2 (print 2 star) and so on\n",
    "        print(\"*\",end=\" \")\n",
    "    print()    "
   ]
  },
  {
   "cell_type": "markdown",
   "metadata": {},
   "source": [
    "# Write a program to print the series till the range entered by the user:\n",
    " 1!+2!+3!+4!+5!+6!+7!+8!+9!+10!=m"
   ]
  },
  {
   "cell_type": "code",
   "execution_count": 6,
   "metadata": {},
   "outputs": [
    {
     "name": "stdout",
     "output_type": "stream",
     "text": [
      "1! + 2! + 3! + 4! + 5! + 6! + 7! + 8! + 9! + 10!= 4037913\n"
     ]
    }
   ],
   "source": [
    "n = int(input(\"Enter a number: \"))\n",
    "sum = 0\n",
    "for i in range(1,n+1):\n",
    "    fact = 1\n",
    "    for j in range(1,i+1):\n",
    "        fact=fact*j\n",
    "    sum = sum + fact\n",
    "    if i < num:\n",
    "        print(i,\"! + \",end=\"\",sep=\"\")\n",
    "    else:\n",
    "        print(i,\"!\",end=\"\",sep=\"\")            \n",
    "print(\"=\",sum)\n"
   ]
  },
  {
   "cell_type": "markdown",
   "metadata": {},
   "source": []
  },
  {
   "cell_type": "markdown",
   "metadata": {},
   "source": []
  },
  {
   "cell_type": "markdown",
   "metadata": {},
   "source": [
    "### While Loop\n",
    "   "
   ]
  },
  {
   "cell_type": "code",
   "execution_count": 1,
   "metadata": {},
   "outputs": [
    {
     "name": "stdout",
     "output_type": "stream",
     "text": [
      "o l l e h "
     ]
    }
   ],
   "source": [
    "str = input(\"Enter a string value:\")\n",
    "while len(str)>0:\n",
    "    print(str[-1],end=\" \")\n",
    "    str= str[0:-1]\n",
    "  \n"
   ]
  },
  {
   "cell_type": "code",
   "execution_count": null,
   "metadata": {},
   "outputs": [],
   "source": []
  }
 ],
 "metadata": {
  "kernelspec": {
   "display_name": "Python 3",
   "language": "python",
   "name": "python3"
  },
  "language_info": {
   "codemirror_mode": {
    "name": "ipython",
    "version": 3
   },
   "file_extension": ".py",
   "mimetype": "text/x-python",
   "name": "python",
   "nbconvert_exporter": "python",
   "pygments_lexer": "ipython3",
   "version": "3.11.5"
  },
  "orig_nbformat": 4
 },
 "nbformat": 4,
 "nbformat_minor": 2
}
